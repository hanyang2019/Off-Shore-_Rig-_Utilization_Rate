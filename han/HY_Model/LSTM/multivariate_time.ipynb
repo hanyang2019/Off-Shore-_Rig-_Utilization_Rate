{
 "cells": [
  {
   "cell_type": "code",
   "execution_count": 1,
   "metadata": {},
   "outputs": [
    {
     "name": "stderr",
     "output_type": "stream",
     "text": [
      "Using TensorFlow backend.\n"
     ]
    }
   ],
   "source": [
    "from math import sqrt\n",
    "from numpy import concatenate\n",
    "from matplotlib import pyplot\n",
    "from pandas import read_csv\n",
    "from pandas import DataFrame\n",
    "from pandas import concat\n",
    "from sklearn.preprocessing import MinMaxScaler\n",
    "from sklearn.preprocessing import LabelEncoder\n",
    "from sklearn.metrics import mean_squared_error\n",
    "from keras.models import Sequential\n",
    "from keras.layers import Dense\n",
    "from keras.layers import LSTM\n",
    "import pandas as pd"
   ]
  },
  {
   "cell_type": "code",
   "execution_count": 2,
   "metadata": {},
   "outputs": [],
   "source": [
    "# Define a function to re-shape the data\n",
    "# convert series to supervised learning\n",
    "#Frame a time series as a supervised learning dataset.\n",
    "#Arguments:\n",
    "#data: Sequence of observations as a list or NumPy array.\n",
    "#n_in: Number of lag observations as input (X).\n",
    "#n_out: Number of observations as output (y).\n",
    "#dropnan: Boolean whether or not to drop rows with NaN values.\n",
    "#Returns:Pandas DataFrame of series framed for supervised learning.\n",
    "    \n",
    "def series_to_supervised(data, n_in=1, n_out=1, dropnan=True):\n",
    "    n_vars = 1 if type(data) is list else data.shape[1]\n",
    "    df = DataFrame(data)\n",
    "    cols, names = list(), list()\n",
    "    # input sequence (t-n, ... t-1)\n",
    "    for i in range(n_in, 0, -1):\n",
    "        cols.append(df.shift(i))\n",
    "        names += [('var%d(t-%d)' % (j+1, i)) for j in range(n_vars)]\n",
    "    # forecast sequence (t, t+1, ... t+n)\n",
    "    for i in range(0, n_out):\n",
    "        cols.append(df.shift(-i))\n",
    "        if i == 0:\n",
    "            names += [('var%d(t)' % (j+1)) for j in range(n_vars)]\n",
    "        else:\n",
    "            names += [('var%d(t+%d)' % (j+1, i)) for j in range(n_vars)]\n",
    "    # put it all together\n",
    "    agg = concat(cols, axis=1)\n",
    "    agg.columns = names\n",
    "    # drop rows with NaN values\n",
    "    if dropnan:\n",
    "        agg.dropna(inplace=True)\n",
    "    return agg"
   ]
  },
  {
   "cell_type": "code",
   "execution_count": 3,
   "metadata": {},
   "outputs": [],
   "source": [
    "data=pd.read_excel('../../../Data/Model_Data_Rev1.xlsx')\n",
    "data.dropna(inplace=True, how='any')\n",
    "data.set_index(['Date'], inplace=True)\n",
    "data=data[['Offshore_Utilization_Rate', 'Active_Rig_Count',\n",
    "       'Land_Rig_Active_Count', 'Crude_Price_2010_USD',\n",
    "       'Adjusted_Nat_Gas_Price_2010', 'World_Oil_Cunsump',\n",
    "       'World_Oil_Production']]"
   ]
  },
  {
   "cell_type": "code",
   "execution_count": 4,
   "metadata": {},
   "outputs": [],
   "source": [
    "values = data.values"
   ]
  },
  {
   "cell_type": "code",
   "execution_count": 5,
   "metadata": {},
   "outputs": [],
   "source": [
    "values = values.astype('float32')\n",
    "# normalize features\n",
    "scaler = MinMaxScaler(feature_range=(0, 1))\n",
    "scaled = scaler.fit_transform(values)\n",
    "# frame as supervised learning\n",
    "reframed = series_to_supervised(scaled, 1, 1)"
   ]
  },
  {
   "cell_type": "code",
   "execution_count": 6,
   "metadata": {},
   "outputs": [
    {
     "data": {
      "text/html": [
       "<div>\n",
       "<style scoped>\n",
       "    .dataframe tbody tr th:only-of-type {\n",
       "        vertical-align: middle;\n",
       "    }\n",
       "\n",
       "    .dataframe tbody tr th {\n",
       "        vertical-align: top;\n",
       "    }\n",
       "\n",
       "    .dataframe thead th {\n",
       "        text-align: right;\n",
       "    }\n",
       "</style>\n",
       "<table border=\"1\" class=\"dataframe\">\n",
       "  <thead>\n",
       "    <tr style=\"text-align: right;\">\n",
       "      <th></th>\n",
       "      <th>var1(t-1)</th>\n",
       "      <th>var2(t-1)</th>\n",
       "      <th>var3(t-1)</th>\n",
       "      <th>var4(t-1)</th>\n",
       "      <th>var5(t-1)</th>\n",
       "      <th>var6(t-1)</th>\n",
       "      <th>var7(t-1)</th>\n",
       "      <th>var1(t)</th>\n",
       "      <th>var2(t)</th>\n",
       "      <th>var3(t)</th>\n",
       "      <th>var4(t)</th>\n",
       "      <th>var5(t)</th>\n",
       "      <th>var6(t)</th>\n",
       "      <th>var7(t)</th>\n",
       "    </tr>\n",
       "  </thead>\n",
       "  <tbody>\n",
       "    <tr>\n",
       "      <th>1</th>\n",
       "      <td>0.786283</td>\n",
       "      <td>0.872449</td>\n",
       "      <td>0.889263</td>\n",
       "      <td>0.391202</td>\n",
       "      <td>0.066360</td>\n",
       "      <td>0.000000</td>\n",
       "      <td>0.000000</td>\n",
       "      <td>0.777806</td>\n",
       "      <td>0.897230</td>\n",
       "      <td>0.917341</td>\n",
       "      <td>0.329032</td>\n",
       "      <td>0.062566</td>\n",
       "      <td>0.000000</td>\n",
       "      <td>0.000000</td>\n",
       "    </tr>\n",
       "    <tr>\n",
       "      <th>2</th>\n",
       "      <td>0.777806</td>\n",
       "      <td>0.897230</td>\n",
       "      <td>0.917341</td>\n",
       "      <td>0.329032</td>\n",
       "      <td>0.062566</td>\n",
       "      <td>0.000000</td>\n",
       "      <td>0.000000</td>\n",
       "      <td>0.703314</td>\n",
       "      <td>0.852405</td>\n",
       "      <td>0.875169</td>\n",
       "      <td>0.256137</td>\n",
       "      <td>0.062220</td>\n",
       "      <td>0.046617</td>\n",
       "      <td>0.055106</td>\n",
       "    </tr>\n",
       "    <tr>\n",
       "      <th>3</th>\n",
       "      <td>0.703314</td>\n",
       "      <td>0.852405</td>\n",
       "      <td>0.875169</td>\n",
       "      <td>0.256137</td>\n",
       "      <td>0.062220</td>\n",
       "      <td>0.046617</td>\n",
       "      <td>0.055106</td>\n",
       "      <td>0.595941</td>\n",
       "      <td>0.716837</td>\n",
       "      <td>0.738944</td>\n",
       "      <td>0.131881</td>\n",
       "      <td>0.061559</td>\n",
       "      <td>0.046617</td>\n",
       "      <td>0.055106</td>\n",
       "    </tr>\n",
       "    <tr>\n",
       "      <th>4</th>\n",
       "      <td>0.595941</td>\n",
       "      <td>0.716837</td>\n",
       "      <td>0.738944</td>\n",
       "      <td>0.131881</td>\n",
       "      <td>0.061559</td>\n",
       "      <td>0.046617</td>\n",
       "      <td>0.055106</td>\n",
       "      <td>0.423581</td>\n",
       "      <td>0.555758</td>\n",
       "      <td>0.581047</td>\n",
       "      <td>0.085966</td>\n",
       "      <td>0.057885</td>\n",
       "      <td>0.046617</td>\n",
       "      <td>0.055106</td>\n",
       "    </tr>\n",
       "    <tr>\n",
       "      <th>5</th>\n",
       "      <td>0.423581</td>\n",
       "      <td>0.555758</td>\n",
       "      <td>0.581047</td>\n",
       "      <td>0.085966</td>\n",
       "      <td>0.057885</td>\n",
       "      <td>0.046617</td>\n",
       "      <td>0.055106</td>\n",
       "      <td>0.282815</td>\n",
       "      <td>0.360058</td>\n",
       "      <td>0.381940</td>\n",
       "      <td>0.090574</td>\n",
       "      <td>0.055694</td>\n",
       "      <td>0.046617</td>\n",
       "      <td>0.055106</td>\n",
       "    </tr>\n",
       "  </tbody>\n",
       "</table>\n",
       "</div>"
      ],
      "text/plain": [
       "   var1(t-1)  var2(t-1)  var3(t-1)  var4(t-1)  var5(t-1)  var6(t-1)  \\\n",
       "1   0.786283   0.872449   0.889263   0.391202   0.066360   0.000000   \n",
       "2   0.777806   0.897230   0.917341   0.329032   0.062566   0.000000   \n",
       "3   0.703314   0.852405   0.875169   0.256137   0.062220   0.046617   \n",
       "4   0.595941   0.716837   0.738944   0.131881   0.061559   0.046617   \n",
       "5   0.423581   0.555758   0.581047   0.085966   0.057885   0.046617   \n",
       "\n",
       "   var7(t-1)   var1(t)   var2(t)   var3(t)   var4(t)   var5(t)   var6(t)  \\\n",
       "1   0.000000  0.777806  0.897230  0.917341  0.329032  0.062566  0.000000   \n",
       "2   0.000000  0.703314  0.852405  0.875169  0.256137  0.062220  0.046617   \n",
       "3   0.055106  0.595941  0.716837  0.738944  0.131881  0.061559  0.046617   \n",
       "4   0.055106  0.423581  0.555758  0.581047  0.085966  0.057885  0.046617   \n",
       "5   0.055106  0.282815  0.360058  0.381940  0.090574  0.055694  0.046617   \n",
       "\n",
       "    var7(t)  \n",
       "1  0.000000  \n",
       "2  0.055106  \n",
       "3  0.055106  \n",
       "4  0.055106  \n",
       "5  0.055106  "
      ]
     },
     "execution_count": 6,
     "metadata": {},
     "output_type": "execute_result"
    }
   ],
   "source": [
    "reframed.head(5)"
   ]
  },
  {
   "cell_type": "code",
   "execution_count": 7,
   "metadata": {},
   "outputs": [
    {
     "data": {
      "text/plain": [
       "Index(['var1(t-1)', 'var2(t-1)', 'var3(t-1)', 'var4(t-1)', 'var5(t-1)',\n",
       "       'var6(t-1)', 'var7(t-1)', 'var1(t)', 'var2(t)', 'var3(t)', 'var4(t)',\n",
       "       'var5(t)', 'var6(t)', 'var7(t)'],\n",
       "      dtype='object')"
      ]
     },
     "execution_count": 7,
     "metadata": {},
     "output_type": "execute_result"
    }
   ],
   "source": [
    "reframed.columns"
   ]
  },
  {
   "cell_type": "code",
   "execution_count": 8,
   "metadata": {},
   "outputs": [
    {
     "name": "stdout",
     "output_type": "stream",
     "text": [
      "   var1(t-1)  var2(t-1)  var3(t-1)  var4(t-1)  var5(t-1)  var6(t-1)  \\\n",
      "1   0.786283   0.872449   0.889263   0.391202   0.066360   0.000000   \n",
      "2   0.777806   0.897230   0.917341   0.329032   0.062566   0.000000   \n",
      "3   0.703314   0.852405   0.875169   0.256137   0.062220   0.046617   \n",
      "4   0.595941   0.716837   0.738944   0.131881   0.061559   0.046617   \n",
      "5   0.423581   0.555758   0.581047   0.085966   0.057885   0.046617   \n",
      "\n",
      "   var7(t-1)   var1(t)  \n",
      "1   0.000000  0.777806  \n",
      "2   0.000000  0.703314  \n",
      "3   0.055106  0.595941  \n",
      "4   0.055106  0.423581  \n",
      "5   0.055106  0.282815  \n"
     ]
    }
   ],
   "source": [
    "reframed.drop(reframed.columns[[-1,-2,-3,-4,-5,-6]], axis=1, inplace=True)\n",
    "print(reframed.head())"
   ]
  },
  {
   "cell_type": "code",
   "execution_count": 9,
   "metadata": {},
   "outputs": [],
   "source": [
    "reframed=reframed.rename(columns={\n",
    "    'var1(t-1)':'Offshore_Utilization_Rate (t-1)', \n",
    "    'var2(t-1)':'Active_Rig_Count (t-1)', \n",
    "    'var3(t-1)':'Land_Rig_Active_Count (t-1)', \n",
    "    'var4(t-1)':'Crude_Price_2010_USD (t-1)', \n",
    "    'var5(t-1)':'Adjusted_Nat_Gas_Price_2010 (t-1)',\n",
    "    'var6(t-1)':'World_Oil_Cunsump (t-1)', \n",
    "    'var7(t-1)':'World_Oil_Production (t-1)', \n",
    "    'var1(t)':'Offshore_Utilization_Rate'\n",
    "})"
   ]
  },
  {
   "cell_type": "code",
   "execution_count": 10,
   "metadata": {},
   "outputs": [
    {
     "data": {
      "text/plain": [
       "(407, 8)"
      ]
     },
     "execution_count": 10,
     "metadata": {},
     "output_type": "execute_result"
    }
   ],
   "source": [
    "reframed.shape"
   ]
  },
  {
   "cell_type": "code",
   "execution_count": 11,
   "metadata": {},
   "outputs": [
    {
     "name": "stdout",
     "output_type": "stream",
     "text": [
      "(300, 1, 7) (300,) (107, 1, 7) (107,)\n"
     ]
    }
   ],
   "source": [
    "# split into train and test sets\n",
    "values = reframed.values\n",
    "n_train_hours = 300 # how many data points to be used as training data, rest goes to test (approximately 25% as test)\n",
    "train = values[:n_train_hours, :]\n",
    "test = values[n_train_hours:, :]\n",
    "# split into input and outputs\n",
    "train_X, train_y = train[:, :-1], train[:, -1]\n",
    "test_X, test_y = test[:, :-1], test[:, -1]\n",
    "# reshape input to be 3D [samples, timesteps, features]\n",
    "train_X = train_X.reshape((train_X.shape[0], 1, train_X.shape[1]))\n",
    "test_X = test_X.reshape((test_X.shape[0], 1, test_X.shape[1]))\n",
    "print(train_X.shape, train_y.shape, test_X.shape, test_y.shape)"
   ]
  },
  {
   "cell_type": "code",
   "execution_count": 12,
   "metadata": {},
   "outputs": [
    {
     "name": "stdout",
     "output_type": "stream",
     "text": [
      "Train on 300 samples, validate on 107 samples\n",
      "Epoch 1/200\n",
      " - 1s - loss: 0.6402 - mse: 0.4452 - val_loss: 0.3766 - val_mse: 0.2135\n",
      "Epoch 2/200\n",
      " - 0s - loss: 0.5933 - mse: 0.3841 - val_loss: 0.3343 - val_mse: 0.1658\n",
      "Epoch 3/200\n",
      " - 0s - loss: 0.5452 - mse: 0.3264 - val_loss: 0.2945 - val_mse: 0.1249\n",
      "Epoch 4/200\n",
      " - 0s - loss: 0.4957 - mse: 0.2720 - val_loss: 0.2590 - val_mse: 0.0912\n",
      "Epoch 5/200\n",
      " - 0s - loss: 0.4444 - mse: 0.2208 - val_loss: 0.2284 - val_mse: 0.0657\n",
      "Epoch 6/200\n",
      " - 0s - loss: 0.3913 - mse: 0.1733 - val_loss: 0.2036 - val_mse: 0.0498\n",
      "Epoch 7/200\n",
      " - 0s - loss: 0.3353 - mse: 0.1299 - val_loss: 0.1858 - val_mse: 0.0456\n",
      "Epoch 8/200\n",
      " - 0s - loss: 0.2772 - mse: 0.0919 - val_loss: 0.1819 - val_mse: 0.0555\n",
      "Epoch 9/200\n",
      " - 0s - loss: 0.2216 - mse: 0.0610 - val_loss: 0.2236 - val_mse: 0.0794\n",
      "Epoch 10/200\n",
      " - 0s - loss: 0.1754 - mse: 0.0408 - val_loss: 0.2874 - val_mse: 0.1087\n",
      "Epoch 11/200\n",
      " - 0s - loss: 0.1395 - mse: 0.0291 - val_loss: 0.3411 - val_mse: 0.1392\n",
      "Epoch 12/200\n",
      " - 0s - loss: 0.1180 - mse: 0.0229 - val_loss: 0.3785 - val_mse: 0.1641\n",
      "Epoch 13/200\n",
      " - 0s - loss: 0.1094 - mse: 0.0201 - val_loss: 0.3940 - val_mse: 0.1752\n",
      "Epoch 14/200\n",
      " - 0s - loss: 0.1055 - mse: 0.0188 - val_loss: 0.3902 - val_mse: 0.1724\n",
      "Epoch 15/200\n",
      " - 0s - loss: 0.1026 - mse: 0.0180 - val_loss: 0.3751 - val_mse: 0.1616\n",
      "Epoch 16/200\n",
      " - 0s - loss: 0.1010 - mse: 0.0177 - val_loss: 0.3562 - val_mse: 0.1488\n",
      "Epoch 17/200\n",
      " - 0s - loss: 0.1014 - mse: 0.0178 - val_loss: 0.3404 - val_mse: 0.1386\n",
      "Epoch 18/200\n",
      " - 0s - loss: 0.1020 - mse: 0.0179 - val_loss: 0.3305 - val_mse: 0.1325\n",
      "Epoch 19/200\n",
      " - 0s - loss: 0.1013 - mse: 0.0176 - val_loss: 0.3258 - val_mse: 0.1295\n",
      "Epoch 20/200\n",
      " - 0s - loss: 0.0995 - mse: 0.0171 - val_loss: 0.3242 - val_mse: 0.1285\n",
      "Epoch 21/200\n",
      " - 0s - loss: 0.0970 - mse: 0.0164 - val_loss: 0.3236 - val_mse: 0.1280\n",
      "Epoch 22/200\n",
      " - 0s - loss: 0.0947 - mse: 0.0157 - val_loss: 0.3222 - val_mse: 0.1270\n",
      "Epoch 23/200\n",
      " - 0s - loss: 0.0926 - mse: 0.0152 - val_loss: 0.3195 - val_mse: 0.1253\n",
      "Epoch 24/200\n",
      " - 0s - loss: 0.0910 - mse: 0.0147 - val_loss: 0.3155 - val_mse: 0.1227\n",
      "Epoch 25/200\n",
      " - 0s - loss: 0.0897 - mse: 0.0143 - val_loss: 0.3105 - val_mse: 0.1197\n",
      "Epoch 26/200\n",
      " - 0s - loss: 0.0886 - mse: 0.0139 - val_loss: 0.3057 - val_mse: 0.1167\n",
      "Epoch 27/200\n",
      " - 0s - loss: 0.0876 - mse: 0.0136 - val_loss: 0.3014 - val_mse: 0.1142\n",
      "Epoch 28/200\n",
      " - 0s - loss: 0.0864 - mse: 0.0132 - val_loss: 0.2975 - val_mse: 0.1118\n",
      "Epoch 29/200\n",
      " - 0s - loss: 0.0852 - mse: 0.0129 - val_loss: 0.2940 - val_mse: 0.1096\n",
      "Epoch 30/200\n",
      " - 0s - loss: 0.0839 - mse: 0.0125 - val_loss: 0.2908 - val_mse: 0.1077\n",
      "Epoch 31/200\n",
      " - 0s - loss: 0.0826 - mse: 0.0121 - val_loss: 0.2878 - val_mse: 0.1058\n",
      "Epoch 32/200\n",
      " - 0s - loss: 0.0813 - mse: 0.0118 - val_loss: 0.2846 - val_mse: 0.1038\n",
      "Epoch 33/200\n",
      " - 0s - loss: 0.0800 - mse: 0.0115 - val_loss: 0.2813 - val_mse: 0.1018\n",
      "Epoch 34/200\n",
      " - 0s - loss: 0.0788 - mse: 0.0112 - val_loss: 0.2772 - val_mse: 0.0994\n",
      "Epoch 35/200\n",
      " - 0s - loss: 0.0778 - mse: 0.0109 - val_loss: 0.2730 - val_mse: 0.0970\n",
      "Epoch 36/200\n",
      " - 0s - loss: 0.0768 - mse: 0.0106 - val_loss: 0.2687 - val_mse: 0.0946\n",
      "Epoch 37/200\n",
      " - 0s - loss: 0.0758 - mse: 0.0104 - val_loss: 0.2641 - val_mse: 0.0921\n",
      "Epoch 38/200\n",
      " - 0s - loss: 0.0750 - mse: 0.0101 - val_loss: 0.2600 - val_mse: 0.0897\n",
      "Epoch 39/200\n",
      " - 0s - loss: 0.0740 - mse: 0.0099 - val_loss: 0.2563 - val_mse: 0.0876\n",
      "Epoch 40/200\n",
      " - 0s - loss: 0.0730 - mse: 0.0096 - val_loss: 0.2526 - val_mse: 0.0855\n",
      "Epoch 41/200\n",
      " - 0s - loss: 0.0720 - mse: 0.0094 - val_loss: 0.2489 - val_mse: 0.0834\n",
      "Epoch 42/200\n",
      " - 0s - loss: 0.0710 - mse: 0.0092 - val_loss: 0.2451 - val_mse: 0.0813\n",
      "Epoch 43/200\n",
      " - 0s - loss: 0.0701 - mse: 0.0090 - val_loss: 0.2412 - val_mse: 0.0791\n",
      "Epoch 44/200\n",
      " - 0s - loss: 0.0693 - mse: 0.0088 - val_loss: 0.2364 - val_mse: 0.0766\n",
      "Epoch 45/200\n",
      " - 0s - loss: 0.0686 - mse: 0.0086 - val_loss: 0.2309 - val_mse: 0.0738\n",
      "Epoch 46/200\n",
      " - 0s - loss: 0.0681 - mse: 0.0084 - val_loss: 0.2253 - val_mse: 0.0711\n",
      "Epoch 47/200\n",
      " - 0s - loss: 0.0676 - mse: 0.0083 - val_loss: 0.2196 - val_mse: 0.0683\n",
      "Epoch 48/200\n",
      " - 0s - loss: 0.0671 - mse: 0.0081 - val_loss: 0.2141 - val_mse: 0.0657\n",
      "Epoch 49/200\n",
      " - 0s - loss: 0.0665 - mse: 0.0079 - val_loss: 0.2086 - val_mse: 0.0632\n",
      "Epoch 50/200\n",
      " - 0s - loss: 0.0660 - mse: 0.0078 - val_loss: 0.2030 - val_mse: 0.0606\n",
      "Epoch 51/200\n",
      " - 0s - loss: 0.0654 - mse: 0.0076 - val_loss: 0.1977 - val_mse: 0.0582\n",
      "Epoch 52/200\n",
      " - 0s - loss: 0.0648 - mse: 0.0075 - val_loss: 0.1921 - val_mse: 0.0558\n",
      "Epoch 53/200\n",
      " - 0s - loss: 0.0643 - mse: 0.0073 - val_loss: 0.1865 - val_mse: 0.0535\n",
      "Epoch 54/200\n",
      " - 0s - loss: 0.0637 - mse: 0.0072 - val_loss: 0.1812 - val_mse: 0.0513\n",
      "Epoch 55/200\n",
      " - 0s - loss: 0.0631 - mse: 0.0070 - val_loss: 0.1762 - val_mse: 0.0492\n",
      "Epoch 56/200\n",
      " - 0s - loss: 0.0624 - mse: 0.0069 - val_loss: 0.1712 - val_mse: 0.0471\n",
      "Epoch 57/200\n",
      " - 0s - loss: 0.0618 - mse: 0.0067 - val_loss: 0.1660 - val_mse: 0.0450\n",
      "Epoch 58/200\n",
      " - 0s - loss: 0.0612 - mse: 0.0066 - val_loss: 0.1609 - val_mse: 0.0428\n",
      "Epoch 59/200\n",
      " - 0s - loss: 0.0607 - mse: 0.0065 - val_loss: 0.1561 - val_mse: 0.0407\n",
      "Epoch 60/200\n",
      " - 0s - loss: 0.0601 - mse: 0.0063 - val_loss: 0.1519 - val_mse: 0.0388\n",
      "Epoch 61/200\n",
      " - 0s - loss: 0.0594 - mse: 0.0062 - val_loss: 0.1477 - val_mse: 0.0370\n",
      "Epoch 62/200\n",
      " - 0s - loss: 0.0588 - mse: 0.0061 - val_loss: 0.1435 - val_mse: 0.0350\n",
      "Epoch 63/200\n",
      " - 0s - loss: 0.0583 - mse: 0.0060 - val_loss: 0.1395 - val_mse: 0.0332\n",
      "Epoch 64/200\n",
      " - 0s - loss: 0.0577 - mse: 0.0058 - val_loss: 0.1357 - val_mse: 0.0315\n",
      "Epoch 65/200\n",
      " - 0s - loss: 0.0571 - mse: 0.0057 - val_loss: 0.1323 - val_mse: 0.0299\n",
      "Epoch 66/200\n",
      " - 0s - loss: 0.0564 - mse: 0.0056 - val_loss: 0.1292 - val_mse: 0.0284\n",
      "Epoch 67/200\n",
      " - 0s - loss: 0.0556 - mse: 0.0054 - val_loss: 0.1261 - val_mse: 0.0269\n",
      "Epoch 68/200\n",
      " - 0s - loss: 0.0549 - mse: 0.0053 - val_loss: 0.1231 - val_mse: 0.0255\n",
      "Epoch 69/200\n",
      " - 0s - loss: 0.0542 - mse: 0.0052 - val_loss: 0.1204 - val_mse: 0.0241\n",
      "Epoch 70/200\n",
      " - 0s - loss: 0.0536 - mse: 0.0051 - val_loss: 0.1180 - val_mse: 0.0227\n",
      "Epoch 71/200\n",
      " - 0s - loss: 0.0529 - mse: 0.0050 - val_loss: 0.1159 - val_mse: 0.0214\n",
      "Epoch 72/200\n",
      " - 0s - loss: 0.0523 - mse: 0.0049 - val_loss: 0.1139 - val_mse: 0.0202\n",
      "Epoch 73/200\n",
      " - 0s - loss: 0.0514 - mse: 0.0047 - val_loss: 0.1120 - val_mse: 0.0192\n",
      "Epoch 74/200\n",
      " - 0s - loss: 0.0504 - mse: 0.0046 - val_loss: 0.1100 - val_mse: 0.0183\n",
      "Epoch 75/200\n",
      " - 0s - loss: 0.0495 - mse: 0.0044 - val_loss: 0.1081 - val_mse: 0.0175\n",
      "Epoch 76/200\n",
      " - 0s - loss: 0.0485 - mse: 0.0043 - val_loss: 0.1062 - val_mse: 0.0168\n",
      "Epoch 77/200\n",
      " - 0s - loss: 0.0473 - mse: 0.0041 - val_loss: 0.1043 - val_mse: 0.0161\n",
      "Epoch 78/200\n",
      " - 0s - loss: 0.0467 - mse: 0.0040 - val_loss: 0.1024 - val_mse: 0.0153\n",
      "Epoch 79/200\n",
      " - 0s - loss: 0.0455 - mse: 0.0038 - val_loss: 0.1003 - val_mse: 0.0148\n",
      "Epoch 80/200\n",
      " - 0s - loss: 0.0444 - mse: 0.0037 - val_loss: 0.0983 - val_mse: 0.0142\n",
      "Epoch 81/200\n",
      " - 0s - loss: 0.0435 - mse: 0.0035 - val_loss: 0.0964 - val_mse: 0.0136\n",
      "Epoch 82/200\n",
      " - 0s - loss: 0.0427 - mse: 0.0034 - val_loss: 0.0945 - val_mse: 0.0130\n",
      "Epoch 83/200\n",
      " - 0s - loss: 0.0416 - mse: 0.0033 - val_loss: 0.0924 - val_mse: 0.0125\n",
      "Epoch 84/200\n",
      " - 0s - loss: 0.0407 - mse: 0.0032 - val_loss: 0.0904 - val_mse: 0.0119\n",
      "Epoch 85/200\n",
      " - 0s - loss: 0.0397 - mse: 0.0030 - val_loss: 0.0884 - val_mse: 0.0114\n",
      "Epoch 86/200\n",
      " - 0s - loss: 0.0389 - mse: 0.0029 - val_loss: 0.0864 - val_mse: 0.0108\n",
      "Epoch 87/200\n",
      " - 0s - loss: 0.0379 - mse: 0.0028 - val_loss: 0.0844 - val_mse: 0.0103\n",
      "Epoch 88/200\n",
      " - 0s - loss: 0.0370 - mse: 0.0027 - val_loss: 0.0824 - val_mse: 0.0098\n",
      "Epoch 89/200\n",
      " - 0s - loss: 0.0361 - mse: 0.0026 - val_loss: 0.0804 - val_mse: 0.0093\n",
      "Epoch 90/200\n",
      " - 0s - loss: 0.0353 - mse: 0.0025 - val_loss: 0.0785 - val_mse: 0.0088\n",
      "Epoch 91/200\n",
      " - 0s - loss: 0.0345 - mse: 0.0024 - val_loss: 0.0767 - val_mse: 0.0083\n",
      "Epoch 92/200\n",
      " - 0s - loss: 0.0337 - mse: 0.0023 - val_loss: 0.0748 - val_mse: 0.0078\n",
      "Epoch 93/200\n",
      " - 0s - loss: 0.0329 - mse: 0.0022 - val_loss: 0.0728 - val_mse: 0.0074\n",
      "Epoch 94/200\n",
      " - 0s - loss: 0.0321 - mse: 0.0021 - val_loss: 0.0708 - val_mse: 0.0070\n",
      "Epoch 95/200\n",
      " - 0s - loss: 0.0311 - mse: 0.0020 - val_loss: 0.0686 - val_mse: 0.0066\n",
      "Epoch 96/200\n",
      " - 0s - loss: 0.0304 - mse: 0.0020 - val_loss: 0.0667 - val_mse: 0.0062\n"
     ]
    },
    {
     "name": "stdout",
     "output_type": "stream",
     "text": [
      "Epoch 97/200\n",
      " - 0s - loss: 0.0297 - mse: 0.0019 - val_loss: 0.0647 - val_mse: 0.0058\n",
      "Epoch 98/200\n",
      " - 0s - loss: 0.0290 - mse: 0.0019 - val_loss: 0.0630 - val_mse: 0.0055\n",
      "Epoch 99/200\n",
      " - 0s - loss: 0.0286 - mse: 0.0018 - val_loss: 0.0618 - val_mse: 0.0052\n",
      "Epoch 100/200\n",
      " - 0s - loss: 0.0280 - mse: 0.0017 - val_loss: 0.0599 - val_mse: 0.0049\n",
      "Epoch 101/200\n",
      " - 0s - loss: 0.0274 - mse: 0.0017 - val_loss: 0.0584 - val_mse: 0.0046\n",
      "Epoch 102/200\n",
      " - 0s - loss: 0.0270 - mse: 0.0016 - val_loss: 0.0572 - val_mse: 0.0044\n",
      "Epoch 103/200\n",
      " - 0s - loss: 0.0266 - mse: 0.0016 - val_loss: 0.0562 - val_mse: 0.0042\n",
      "Epoch 104/200\n",
      " - 0s - loss: 0.0263 - mse: 0.0015 - val_loss: 0.0549 - val_mse: 0.0040\n",
      "Epoch 105/200\n",
      " - 0s - loss: 0.0261 - mse: 0.0015 - val_loss: 0.0533 - val_mse: 0.0039\n",
      "Epoch 106/200\n",
      " - 0s - loss: 0.0257 - mse: 0.0015 - val_loss: 0.0531 - val_mse: 0.0038\n",
      "Epoch 107/200\n",
      " - 0s - loss: 0.0255 - mse: 0.0015 - val_loss: 0.0518 - val_mse: 0.0036\n",
      "Epoch 108/200\n",
      " - 0s - loss: 0.0253 - mse: 0.0014 - val_loss: 0.0510 - val_mse: 0.0035\n",
      "Epoch 109/200\n",
      " - 0s - loss: 0.0251 - mse: 0.0014 - val_loss: 0.0505 - val_mse: 0.0035\n",
      "Epoch 110/200\n",
      " - 0s - loss: 0.0249 - mse: 0.0014 - val_loss: 0.0497 - val_mse: 0.0034\n",
      "Epoch 111/200\n",
      " - 0s - loss: 0.0248 - mse: 0.0014 - val_loss: 0.0494 - val_mse: 0.0033\n",
      "Epoch 112/200\n",
      " - 0s - loss: 0.0245 - mse: 0.0013 - val_loss: 0.0490 - val_mse: 0.0033\n",
      "Epoch 113/200\n",
      " - 0s - loss: 0.0248 - mse: 0.0014 - val_loss: 0.0487 - val_mse: 0.0033\n",
      "Epoch 114/200\n",
      " - 0s - loss: 0.0242 - mse: 0.0013 - val_loss: 0.0485 - val_mse: 0.0032\n",
      "Epoch 115/200\n",
      " - 0s - loss: 0.0249 - mse: 0.0013 - val_loss: 0.0482 - val_mse: 0.0032\n",
      "Epoch 116/200\n",
      " - 0s - loss: 0.0240 - mse: 0.0013 - val_loss: 0.0485 - val_mse: 0.0032\n",
      "Epoch 117/200\n",
      " - 0s - loss: 0.0254 - mse: 0.0013 - val_loss: 0.0477 - val_mse: 0.0032\n",
      "Epoch 118/200\n",
      " - 0s - loss: 0.0240 - mse: 0.0012 - val_loss: 0.0492 - val_mse: 0.0033\n",
      "Epoch 119/200\n",
      " - 0s - loss: 0.0245 - mse: 0.0013 - val_loss: 0.0471 - val_mse: 0.0031\n",
      "Epoch 120/200\n",
      " - 0s - loss: 0.0234 - mse: 0.0012 - val_loss: 0.0477 - val_mse: 0.0031\n",
      "Epoch 121/200\n",
      " - 0s - loss: 0.0241 - mse: 0.0013 - val_loss: 0.0471 - val_mse: 0.0031\n",
      "Epoch 122/200\n",
      " - 0s - loss: 0.0233 - mse: 0.0012 - val_loss: 0.0471 - val_mse: 0.0031\n",
      "Epoch 123/200\n",
      " - 0s - loss: 0.0243 - mse: 0.0013 - val_loss: 0.0466 - val_mse: 0.0030\n",
      "Epoch 124/200\n",
      " - 0s - loss: 0.0232 - mse: 0.0012 - val_loss: 0.0471 - val_mse: 0.0030\n",
      "Epoch 125/200\n",
      " - 0s - loss: 0.0242 - mse: 0.0012 - val_loss: 0.0459 - val_mse: 0.0030\n",
      "Epoch 126/200\n",
      " - 0s - loss: 0.0230 - mse: 0.0012 - val_loss: 0.0466 - val_mse: 0.0030\n",
      "Epoch 127/200\n",
      " - 0s - loss: 0.0238 - mse: 0.0012 - val_loss: 0.0458 - val_mse: 0.0029\n",
      "Epoch 128/200\n",
      " - 0s - loss: 0.0229 - mse: 0.0011 - val_loss: 0.0464 - val_mse: 0.0030\n",
      "Epoch 129/200\n",
      " - 0s - loss: 0.0239 - mse: 0.0012 - val_loss: 0.0453 - val_mse: 0.0029\n",
      "Epoch 130/200\n",
      " - 0s - loss: 0.0227 - mse: 0.0011 - val_loss: 0.0462 - val_mse: 0.0029\n",
      "Epoch 131/200\n",
      " - 0s - loss: 0.0233 - mse: 0.0012 - val_loss: 0.0451 - val_mse: 0.0029\n",
      "Epoch 132/200\n",
      " - 0s - loss: 0.0226 - mse: 0.0011 - val_loss: 0.0457 - val_mse: 0.0029\n",
      "Epoch 133/200\n",
      " - 0s - loss: 0.0228 - mse: 0.0011 - val_loss: 0.0448 - val_mse: 0.0028\n",
      "Epoch 134/200\n",
      " - 0s - loss: 0.0228 - mse: 0.0011 - val_loss: 0.0450 - val_mse: 0.0028\n",
      "Epoch 135/200\n",
      " - 0s - loss: 0.0225 - mse: 0.0011 - val_loss: 0.0448 - val_mse: 0.0028\n",
      "Epoch 136/200\n",
      " - 0s - loss: 0.0229 - mse: 0.0011 - val_loss: 0.0449 - val_mse: 0.0028\n",
      "Epoch 137/200\n",
      " - 0s - loss: 0.0224 - mse: 0.0011 - val_loss: 0.0451 - val_mse: 0.0028\n",
      "Epoch 138/200\n",
      " - 0s - loss: 0.0233 - mse: 0.0011 - val_loss: 0.0445 - val_mse: 0.0028\n",
      "Epoch 139/200\n",
      " - 0s - loss: 0.0223 - mse: 0.0011 - val_loss: 0.0451 - val_mse: 0.0028\n",
      "Epoch 140/200\n",
      " - 0s - loss: 0.0231 - mse: 0.0011 - val_loss: 0.0441 - val_mse: 0.0028\n",
      "Epoch 141/200\n",
      " - 0s - loss: 0.0222 - mse: 0.0011 - val_loss: 0.0450 - val_mse: 0.0028\n",
      "Epoch 142/200\n",
      " - 0s - loss: 0.0226 - mse: 0.0011 - val_loss: 0.0436 - val_mse: 0.0027\n",
      "Epoch 143/200\n",
      " - 0s - loss: 0.0221 - mse: 0.0011 - val_loss: 0.0442 - val_mse: 0.0027\n",
      "Epoch 144/200\n",
      " - 0s - loss: 0.0222 - mse: 0.0011 - val_loss: 0.0435 - val_mse: 0.0027\n",
      "Epoch 145/200\n",
      " - 0s - loss: 0.0223 - mse: 0.0011 - val_loss: 0.0434 - val_mse: 0.0027\n",
      "Epoch 146/200\n",
      " - 0s - loss: 0.0221 - mse: 0.0011 - val_loss: 0.0434 - val_mse: 0.0027\n",
      "Epoch 147/200\n",
      " - 0s - loss: 0.0223 - mse: 0.0011 - val_loss: 0.0435 - val_mse: 0.0027\n",
      "Epoch 148/200\n",
      " - 0s - loss: 0.0219 - mse: 0.0010 - val_loss: 0.0437 - val_mse: 0.0027\n",
      "Epoch 149/200\n",
      " - 0s - loss: 0.0225 - mse: 0.0011 - val_loss: 0.0430 - val_mse: 0.0027\n",
      "Epoch 150/200\n",
      " - 0s - loss: 0.0218 - mse: 0.0010 - val_loss: 0.0434 - val_mse: 0.0027\n",
      "Epoch 151/200\n",
      " - 0s - loss: 0.0227 - mse: 0.0011 - val_loss: 0.0425 - val_mse: 0.0026\n",
      "Epoch 152/200\n",
      " - 0s - loss: 0.0217 - mse: 0.0010 - val_loss: 0.0431 - val_mse: 0.0026\n",
      "Epoch 153/200\n",
      " - 0s - loss: 0.0229 - mse: 0.0011 - val_loss: 0.0422 - val_mse: 0.0026\n",
      "Epoch 154/200\n",
      " - 0s - loss: 0.0219 - mse: 0.0010 - val_loss: 0.0432 - val_mse: 0.0026\n",
      "Epoch 155/200\n",
      " - 0s - loss: 0.0227 - mse: 0.0011 - val_loss: 0.0418 - val_mse: 0.0025\n",
      "Epoch 156/200\n",
      " - 0s - loss: 0.0217 - mse: 0.0010 - val_loss: 0.0429 - val_mse: 0.0026\n",
      "Epoch 157/200\n",
      " - 0s - loss: 0.0224 - mse: 0.0011 - val_loss: 0.0414 - val_mse: 0.0025\n",
      "Epoch 158/200\n",
      " - 0s - loss: 0.0215 - mse: 0.0010 - val_loss: 0.0422 - val_mse: 0.0025\n",
      "Epoch 159/200\n",
      " - 0s - loss: 0.0223 - mse: 0.0011 - val_loss: 0.0414 - val_mse: 0.0025\n",
      "Epoch 160/200\n",
      " - 0s - loss: 0.0216 - mse: 9.8988e-04 - val_loss: 0.0421 - val_mse: 0.0025\n",
      "Epoch 161/200\n",
      " - 0s - loss: 0.0225 - mse: 0.0011 - val_loss: 0.0411 - val_mse: 0.0024\n",
      "Epoch 162/200\n",
      " - 0s - loss: 0.0217 - mse: 9.8492e-04 - val_loss: 0.0422 - val_mse: 0.0025\n",
      "Epoch 163/200\n",
      " - 0s - loss: 0.0226 - mse: 0.0011 - val_loss: 0.0405 - val_mse: 0.0024\n",
      "Epoch 164/200\n",
      " - 0s - loss: 0.0215 - mse: 9.8240e-04 - val_loss: 0.0418 - val_mse: 0.0024\n",
      "Epoch 165/200\n",
      " - 0s - loss: 0.0224 - mse: 0.0010 - val_loss: 0.0403 - val_mse: 0.0023\n",
      "Epoch 166/200\n",
      " - 0s - loss: 0.0215 - mse: 9.7685e-04 - val_loss: 0.0417 - val_mse: 0.0024\n",
      "Epoch 167/200\n",
      " - 0s - loss: 0.0222 - mse: 0.0010 - val_loss: 0.0400 - val_mse: 0.0023\n",
      "Epoch 168/200\n",
      " - 0s - loss: 0.0213 - mse: 9.7511e-04 - val_loss: 0.0412 - val_mse: 0.0024\n",
      "Epoch 169/200\n",
      " - 0s - loss: 0.0221 - mse: 0.0010 - val_loss: 0.0399 - val_mse: 0.0023\n",
      "Epoch 170/200\n",
      " - 0s - loss: 0.0213 - mse: 9.6576e-04 - val_loss: 0.0407 - val_mse: 0.0023\n",
      "Epoch 171/200\n",
      " - 0s - loss: 0.0222 - mse: 0.0010 - val_loss: 0.0397 - val_mse: 0.0023\n",
      "Epoch 172/200\n",
      " - 0s - loss: 0.0213 - mse: 9.5893e-04 - val_loss: 0.0406 - val_mse: 0.0023\n",
      "Epoch 173/200\n",
      " - 0s - loss: 0.0223 - mse: 0.0010 - val_loss: 0.0395 - val_mse: 0.0023\n",
      "Epoch 174/200\n",
      " - 0s - loss: 0.0214 - mse: 9.5520e-04 - val_loss: 0.0409 - val_mse: 0.0023\n",
      "Epoch 175/200\n",
      " - 0s - loss: 0.0223 - mse: 0.0010 - val_loss: 0.0390 - val_mse: 0.0022\n",
      "Epoch 176/200\n",
      " - 0s - loss: 0.0211 - mse: 9.5852e-04 - val_loss: 0.0403 - val_mse: 0.0023\n",
      "Epoch 177/200\n",
      " - 0s - loss: 0.0220 - mse: 0.0010 - val_loss: 0.0393 - val_mse: 0.0022\n",
      "Epoch 178/200\n",
      " - 0s - loss: 0.0212 - mse: 9.4754e-04 - val_loss: 0.0401 - val_mse: 0.0023\n",
      "Epoch 179/200\n",
      " - 0s - loss: 0.0222 - mse: 0.0010 - val_loss: 0.0390 - val_mse: 0.0022\n",
      "Epoch 180/200\n",
      " - 0s - loss: 0.0213 - mse: 9.4470e-04 - val_loss: 0.0405 - val_mse: 0.0023\n",
      "Epoch 181/200\n",
      " - 0s - loss: 0.0221 - mse: 0.0010 - val_loss: 0.0388 - val_mse: 0.0022\n",
      "Epoch 182/200\n",
      " - 0s - loss: 0.0211 - mse: 9.4358e-04 - val_loss: 0.0400 - val_mse: 0.0022\n",
      "Epoch 183/200\n",
      " - 0s - loss: 0.0221 - mse: 0.0010 - val_loss: 0.0388 - val_mse: 0.0022\n",
      "Epoch 184/200\n",
      " - 0s - loss: 0.0212 - mse: 9.4076e-04 - val_loss: 0.0401 - val_mse: 0.0022\n",
      "Epoch 185/200\n",
      " - 0s - loss: 0.0221 - mse: 0.0010 - val_loss: 0.0386 - val_mse: 0.0022\n",
      "Epoch 186/200\n",
      " - 0s - loss: 0.0212 - mse: 9.4173e-04 - val_loss: 0.0401 - val_mse: 0.0022\n",
      "Epoch 187/200\n",
      " - 0s - loss: 0.0218 - mse: 9.8848e-04 - val_loss: 0.0385 - val_mse: 0.0022\n",
      "Epoch 188/200\n",
      " - 0s - loss: 0.0210 - mse: 9.4183e-04 - val_loss: 0.0393 - val_mse: 0.0022\n",
      "Epoch 189/200\n",
      " - 0s - loss: 0.0221 - mse: 0.0010 - val_loss: 0.0384 - val_mse: 0.0022\n",
      "Epoch 190/200\n",
      " - 0s - loss: 0.0212 - mse: 9.3519e-04 - val_loss: 0.0398 - val_mse: 0.0022\n",
      "Epoch 191/200\n",
      " - 0s - loss: 0.0220 - mse: 9.9660e-04 - val_loss: 0.0382 - val_mse: 0.0021\n"
     ]
    },
    {
     "name": "stdout",
     "output_type": "stream",
     "text": [
      "Epoch 192/200\n",
      " - 0s - loss: 0.0211 - mse: 9.3559e-04 - val_loss: 0.0396 - val_mse: 0.0022\n",
      "Epoch 193/200\n",
      " - 0s - loss: 0.0219 - mse: 9.8746e-04 - val_loss: 0.0382 - val_mse: 0.0021\n",
      "Epoch 194/200\n",
      " - 0s - loss: 0.0211 - mse: 9.3307e-04 - val_loss: 0.0392 - val_mse: 0.0022\n",
      "Epoch 195/200\n",
      " - 0s - loss: 0.0221 - mse: 0.0010 - val_loss: 0.0380 - val_mse: 0.0021\n",
      "Epoch 196/200\n",
      " - 0s - loss: 0.0211 - mse: 9.3446e-04 - val_loss: 0.0395 - val_mse: 0.0022\n",
      "Epoch 197/200\n",
      " - 0s - loss: 0.0218 - mse: 9.8383e-04 - val_loss: 0.0381 - val_mse: 0.0021\n",
      "Epoch 198/200\n",
      " - 0s - loss: 0.0210 - mse: 9.3147e-04 - val_loss: 0.0392 - val_mse: 0.0022\n",
      "Epoch 199/200\n",
      " - 0s - loss: 0.0219 - mse: 9.9585e-04 - val_loss: 0.0378 - val_mse: 0.0021\n",
      "Epoch 200/200\n",
      " - 0s - loss: 0.0211 - mse: 9.3267e-04 - val_loss: 0.0390 - val_mse: 0.0021\n"
     ]
    },
    {
     "data": {
      "image/png": "[encoded data removed]",
      "text/plain": [
       "<Figure size 432x288 with 1 Axes>"
      ]
     },
     "metadata": {
      "needs_background": "light"
     },
     "output_type": "display_data"
    }
   ],
   "source": [
    "# design network\n",
    "model = Sequential()\n",
    "model.add(LSTM(50, input_shape=(train_X.shape[1], train_X.shape[2])))\n",
    "model.add(Dense(1))\n",
    "model.compile(loss='mae', optimizer='adam',metrics=['mse'])\n",
    "# fit network\n",
    "history = model.fit(train_X, train_y, epochs=200, batch_size=72, validation_data=(test_X, test_y), verbose=2, shuffle=False)\n",
    "# plot history\n",
    "pyplot.plot([sqrt(i) for i in history.history['mse']], label='train')\n",
    "pyplot.plot([sqrt(i) for i in history.history['val_mse']], label='test')\n",
    "pyplot.legend()\n",
    "pyplot.show()"
   ]
  },
  {
   "cell_type": "code",
   "execution_count": 13,
   "metadata": {},
   "outputs": [
    {
     "name": "stdout",
     "output_type": "stream",
     "text": [
      "Test RMSE: 1.799\n"
     ]
    }
   ],
   "source": [
    "# make a prediction\n",
    "yhat = model.predict(test_X)\n",
    "test_X = test_X.reshape((test_X.shape[0], test_X.shape[2]))\n",
    "# invert scaling for forecast\n",
    "inv_yhat = concatenate((yhat, test_X[:, 1:]), axis=1)\n",
    "inv_yhat = scaler.inverse_transform(inv_yhat)\n",
    "inv_yhat = inv_yhat[:,0]\n",
    "# invert scaling for actual\n",
    "test_y = test_y.reshape((len(test_y), 1))\n",
    "inv_y = concatenate((test_y, test_X[:, 1:]), axis=1)\n",
    "inv_y = scaler.inverse_transform(inv_y)\n",
    "inv_y = inv_y[:,0]\n",
    "# calculate RMSE\n",
    "rmse = sqrt(mean_squared_error(inv_y, inv_yhat))\n",
    "print('Test RMSE: %.3f' % rmse)"
   ]
  },
  {
   "cell_type": "code",
   "execution_count": 14,
   "metadata": {},
   "outputs": [],
   "source": [
    "model.save('mv_LTSM_model.h5')"
   ]
  },
  {
   "cell_type": "code",
   "execution_count": 15,
   "metadata": {},
   "outputs": [
    {
     "data": {
      "text/plain": [
       "array([75.47566 , 74.56895 , 73.07844 , 73.67354 , 76.28104 , 77.76566 ,\n",
       "       77.72009 , 78.54051 , 79.023056, 79.17141 , 79.74534 , 80.10872 ,\n",
       "       80.49153 , 81.338264, 80.84583 , 80.197014, 81.231064, 82.04304 ,\n",
       "       82.725235, 83.26348 , 83.72151 , 83.66143 , 84.4145  , 84.03889 ,\n",
       "       83.91635 , 84.95631 , 85.29332 , 85.48687 , 85.7664  , 86.2964  ,\n",
       "       86.80795 , 86.552055, 86.60939 , 86.7103  , 87.30431 , 87.53277 ,\n",
       "       87.08628 , 87.047195, 86.22289 , 85.75558 , 85.88552 , 86.32637 ,\n",
       "       84.97648 , 84.20545 , 84.03076 , 83.21093 , 82.229385, 81.613   ,\n",
       "       80.98101 , 80.134056, 79.15431 , 77.987076, 78.42175 , 77.649216,\n",
       "       76.73898 , 75.46612 , 74.356766, 72.52545 , 70.97866 , 70.05304 ,\n",
       "       68.91217 , 67.982635, 65.957634, 65.173355, 65.220245, 64.5842  ,\n",
       "       63.72744 , 62.379272, 61.89414 , 60.879845, 60.297993, 59.876877,\n",
       "       58.814064, 58.28326 , 57.755802, 57.95858 , 58.422085, 58.90726 ,\n",
       "       58.9658  , 59.060257, 59.770382, 59.61896 , 59.720272, 59.202   ,\n",
       "       59.840683, 60.405617, 59.59496 , 59.791965, 60.048424, 60.288948,\n",
       "       62.06724 , 63.02637 , 62.936096, 62.87993 , 63.847923, 64.1308  ,\n",
       "       64.417015, 65.34609 , 66.034386, 66.445435, 67.129486, 67.69733 ,\n",
       "       68.03463 , 69.01783 , 69.723915, 69.74003 , 70.60095 ],\n",
       "      dtype=float32)"
      ]
     },
     "execution_count": 15,
     "metadata": {},
     "output_type": "execute_result"
    }
   ],
   "source": [
    "inv_yhat"
   ]
  },
  {
   "cell_type": "code",
   "execution_count": 16,
   "metadata": {},
   "outputs": [
    {
     "data": {
      "text/plain": [
       "array([75.44    , 74.27    , 75.07    , 77.47    , 78.4     , 78.44    ,\n",
       "       79.46    , 80.15    , 80.71    , 81.36    , 81.82    , 82.09    ,\n",
       "       82.8     , 82.63999 , 82.25    , 82.88    , 83.16001 , 83.89    ,\n",
       "       84.69    , 85.11001 , 84.98999 , 85.68    , 85.31    , 85.2     ,\n",
       "       86.100006, 86.62999 , 87.01    , 86.99    , 87.11    , 87.55001 ,\n",
       "       87.44    , 87.57    , 87.740005, 88.31    , 88.56    , 88.2     ,\n",
       "       88.14001 , 87.62    , 87.27    , 87.26    , 87.399994, 86.100006,\n",
       "       85.45    , 85.56    , 84.87    , 83.97    , 83.43    , 82.87    ,\n",
       "       82.04    , 80.92    , 79.270004, 79.15    , 77.95    , 76.78    ,\n",
       "       75.46    , 74.4     , 72.6     , 70.83    , 69.7     , 68.42    ,\n",
       "       67.31    , 64.93    , 63.83    , 63.49    , 62.49    , 61.37    ,\n",
       "       59.680004, 59.24    , 58.1     , 57.43    , 56.929996, 55.75    ,\n",
       "       55.169994, 54.84    , 55.34    , 55.87    , 56.32    , 56.449997,\n",
       "       56.820004, 57.83    , 57.65    , 57.69    , 57.03    , 57.74    ,\n",
       "       58.5     , 57.7     , 58.2     , 58.320004, 58.4     , 60.55    ,\n",
       "       61.81    , 61.88    , 61.88    , 62.96    , 63.3     , 63.68    ,\n",
       "       64.77    , 65.68    , 66.21    , 66.79    , 67.28    , 67.75    ,\n",
       "       68.96    , 69.75    , 69.74    , 70.55    , 70.4     ],\n",
       "      dtype=float32)"
      ]
     },
     "execution_count": 16,
     "metadata": {},
     "output_type": "execute_result"
    }
   ],
   "source": [
    "inv_y"
   ]
  },
  {
   "cell_type": "code",
   "execution_count": 17,
   "metadata": {},
   "outputs": [],
   "source": [
    "df=pd.DataFrame({'predict':inv_yhat,'actual':inv_y})"
   ]
  },
  {
   "cell_type": "code",
   "execution_count": 36,
   "metadata": {},
   "outputs": [],
   "source": [
    "df.to_csv('time_series_comp.csv', index=True)"
   ]
  },
  {
   "cell_type": "code",
   "execution_count": 18,
   "metadata": {},
   "outputs": [
    {
     "data": {
      "text/plain": [
       "[<matplotlib.lines.Line2D at 0x10c2366a0>]"
      ]
     },
     "execution_count": 18,
     "metadata": {},
     "output_type": "execute_result"
    },
    {
     "data": {
      "image/png": "[encoded data removed]",
      "text/plain": [
       "<Figure size 432x288 with 1 Axes>"
      ]
     },
     "metadata": {
      "needs_background": "light"
     },
     "output_type": "display_data"
    }
   ],
   "source": [
    "pyplot.plot(df['predict'])\n",
    "pyplot.plot(df['actual'])"
   ]
  },
  {
   "cell_type": "code",
   "execution_count": 21,
   "metadata": {},
   "outputs": [],
   "source": [
    "# make prediction for Nov 2019\n",
    "new_data=data.tail(1)"
   ]
  },
  {
   "cell_type": "code",
   "execution_count": 23,
   "metadata": {},
   "outputs": [],
   "source": [
    "new_data=new_data.values"
   ]
  },
  {
   "cell_type": "code",
   "execution_count": 24,
   "metadata": {},
   "outputs": [
    {
     "data": {
      "text/plain": [
       "array([[  70.4       , 2123.        , 1588.74      ,   49.24      ,\n",
       "          49.24094515, 8358.        , 8527.        ]])"
      ]
     },
     "execution_count": 24,
     "metadata": {},
     "output_type": "execute_result"
    }
   ],
   "source": [
    "new_data"
   ]
  },
  {
   "cell_type": "code",
   "execution_count": 31,
   "metadata": {},
   "outputs": [],
   "source": [
    "new_data = scaler.fit_transform(new_data)"
   ]
  },
  {
   "cell_type": "code",
   "execution_count": 32,
   "metadata": {},
   "outputs": [],
   "source": [
    "new_X = new_data.reshape((new_data.shape[0], 1, new_data.shape[1]))"
   ]
  },
  {
   "cell_type": "code",
   "execution_count": 33,
   "metadata": {},
   "outputs": [],
   "source": [
    "y_new = model.predict(new_X)"
   ]
  },
  {
   "cell_type": "code",
   "execution_count": 34,
   "metadata": {},
   "outputs": [],
   "source": [
    "new_X = new_X.reshape((new_X.shape[0], new_X.shape[2]))\n",
    "# invert scaling for forecast\n",
    "inv_ynew = concatenate((y_new, new_X[:, 1:]), axis=1)\n",
    "inv_ynew = scaler.inverse_transform(inv_ynew)\n",
    "inv_ynew = inv_ynew[:,0]"
   ]
  },
  {
   "cell_type": "code",
   "execution_count": 35,
   "metadata": {},
   "outputs": [
    {
     "data": {
      "text/plain": [
       "array([70.49436067])"
      ]
     },
     "execution_count": 35,
     "metadata": {},
     "output_type": "execute_result"
    }
   ],
   "source": [
    "inv_ynew"
   ]
  },
  {
   "cell_type": "code",
   "execution_count": null,
   "metadata": {},
   "outputs": [],
   "source": []
  }
 ],
 "metadata": {
  "kernelspec": {
   "display_name": "Python 3",
   "language": "python",
   "name": "python3"
  },
  "language_info": {
   "codemirror_mode": {
    "name": "ipython",
    "version": 3
   },
   "file_extension": ".py",
   "mimetype": "text/x-python",
   "name": "python",
   "nbconvert_exporter": "python",
   "pygments_lexer": "ipython3",
   "version": "3.7.3"
  }
 },
 "nbformat": 4,
 "nbformat_minor": 2
}
