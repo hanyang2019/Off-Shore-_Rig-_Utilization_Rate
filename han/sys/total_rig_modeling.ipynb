{
 "cells": [
  {
   "cell_type": "code",
   "execution_count": 1,
   "metadata": {},
   "outputs": [],
   "source": [
    "import pandas as pd"
   ]
  },
  {
   "cell_type": "code",
   "execution_count": 2,
   "metadata": {},
   "outputs": [],
   "source": [
    "data=pd.read_excel('../Data/Model_Data.xlsx')"
   ]
  },
  {
   "cell_type": "code",
   "execution_count": 3,
   "metadata": {},
   "outputs": [
    {
     "data": {
      "text/html": [
       "<div>\n",
       "<style scoped>\n",
       "    .dataframe tbody tr th:only-of-type {\n",
       "        vertical-align: middle;\n",
       "    }\n",
       "\n",
       "    .dataframe tbody tr th {\n",
       "        vertical-align: top;\n",
       "    }\n",
       "\n",
       "    .dataframe thead th {\n",
       "        text-align: right;\n",
       "    }\n",
       "</style>\n",
       "<table border=\"1\" class=\"dataframe\">\n",
       "  <thead>\n",
       "    <tr style=\"text-align: right;\">\n",
       "      <th></th>\n",
       "      <th>Date</th>\n",
       "      <th>Active_Rig_Count</th>\n",
       "      <th>Offshore_Rig_Supply</th>\n",
       "      <th>Offshore_Rig_Active</th>\n",
       "      <th>Offshore_Utilization_Rate</th>\n",
       "      <th>Land_Rig_Count</th>\n",
       "      <th>Crude_Price_2010_USD</th>\n",
       "      <th>World_Petrol_Cunsump</th>\n",
       "      <th>World_Petrol_Production</th>\n",
       "    </tr>\n",
       "  </thead>\n",
       "  <tbody>\n",
       "    <tr>\n",
       "      <th>0</th>\n",
       "      <td>1975-01-01</td>\n",
       "      <td>2694</td>\n",
       "      <td>NaN</td>\n",
       "      <td>NaN</td>\n",
       "      <td>NaN</td>\n",
       "      <td>NaN</td>\n",
       "      <td>46.53</td>\n",
       "      <td>47035.548</td>\n",
       "      <td>47035.548</td>\n",
       "    </tr>\n",
       "    <tr>\n",
       "      <th>1</th>\n",
       "      <td>1975-02-01</td>\n",
       "      <td>2718</td>\n",
       "      <td>NaN</td>\n",
       "      <td>NaN</td>\n",
       "      <td>NaN</td>\n",
       "      <td>NaN</td>\n",
       "      <td>46.27</td>\n",
       "      <td>46047.671</td>\n",
       "      <td>46047.671</td>\n",
       "    </tr>\n",
       "    <tr>\n",
       "      <th>2</th>\n",
       "      <td>1975-03-01</td>\n",
       "      <td>2769</td>\n",
       "      <td>NaN</td>\n",
       "      <td>NaN</td>\n",
       "      <td>NaN</td>\n",
       "      <td>NaN</td>\n",
       "      <td>46.09</td>\n",
       "      <td>46091.935</td>\n",
       "      <td>46091.935</td>\n",
       "    </tr>\n",
       "    <tr>\n",
       "      <th>3</th>\n",
       "      <td>1975-04-01</td>\n",
       "      <td>2593</td>\n",
       "      <td>NaN</td>\n",
       "      <td>NaN</td>\n",
       "      <td>NaN</td>\n",
       "      <td>NaN</td>\n",
       "      <td>45.92</td>\n",
       "      <td>45721.056</td>\n",
       "      <td>45721.056</td>\n",
       "    </tr>\n",
       "    <tr>\n",
       "      <th>4</th>\n",
       "      <td>1975-05-01</td>\n",
       "      <td>2557</td>\n",
       "      <td>NaN</td>\n",
       "      <td>NaN</td>\n",
       "      <td>NaN</td>\n",
       "      <td>NaN</td>\n",
       "      <td>45.83</td>\n",
       "      <td>46119.653</td>\n",
       "      <td>46119.653</td>\n",
       "    </tr>\n",
       "  </tbody>\n",
       "</table>\n",
       "</div>"
      ],
      "text/plain": [
       "        Date  Active_Rig_Count  Offshore_Rig_Supply  Offshore_Rig_Active  \\\n",
       "0 1975-01-01              2694                  NaN                  NaN   \n",
       "1 1975-02-01              2718                  NaN                  NaN   \n",
       "2 1975-03-01              2769                  NaN                  NaN   \n",
       "3 1975-04-01              2593                  NaN                  NaN   \n",
       "4 1975-05-01              2557                  NaN                  NaN   \n",
       "\n",
       "   Offshore_Utilization_Rate  Land_Rig_Count  Crude_Price_2010_USD  \\\n",
       "0                        NaN             NaN                 46.53   \n",
       "1                        NaN             NaN                 46.27   \n",
       "2                        NaN             NaN                 46.09   \n",
       "3                        NaN             NaN                 45.92   \n",
       "4                        NaN             NaN                 45.83   \n",
       "\n",
       "   World_Petrol_Cunsump  World_Petrol_Production  \n",
       "0             47035.548                47035.548  \n",
       "1             46047.671                46047.671  \n",
       "2             46091.935                46091.935  \n",
       "3             45721.056                45721.056  \n",
       "4             46119.653                46119.653  "
      ]
     },
     "execution_count": 3,
     "metadata": {},
     "output_type": "execute_result"
    }
   ],
   "source": [
    "data.head(5)"
   ]
  },
  {
   "cell_type": "code",
   "execution_count": 4,
   "metadata": {},
   "outputs": [],
   "source": [
    "data.dropna(inplace=True, how='any')"
   ]
  },
  {
   "cell_type": "code",
   "execution_count": 5,
   "metadata": {},
   "outputs": [
    {
     "data": {
      "text/plain": [
       "Index(['Date', 'Active_Rig_Count', 'Offshore_Rig_Supply',\n",
       "       'Offshore_Rig_Active', 'Offshore_Utilization_Rate', 'Land_Rig_Count',\n",
       "       'Crude_Price_2010_USD', 'World_Petrol_Cunsump',\n",
       "       'World_Petrol_Production'],\n",
       "      dtype='object')"
      ]
     },
     "execution_count": 5,
     "metadata": {},
     "output_type": "execute_result"
    }
   ],
   "source": [
    "data.columns"
   ]
  },
  {
   "cell_type": "code",
   "execution_count": 6,
   "metadata": {},
   "outputs": [],
   "source": [
    "X=data[['Offshore_Utilization_Rate', 'Land_Rig_Count',\n",
    "       'Crude_Price_2010_USD', 'World_Petrol_Cunsump',\n",
    "       'World_Petrol_Production']]"
   ]
  },
  {
   "cell_type": "code",
   "execution_count": 7,
   "metadata": {},
   "outputs": [],
   "source": [
    "y=data[['Active_Rig_Count']]"
   ]
  },
  {
   "cell_type": "code",
   "execution_count": 8,
   "metadata": {},
   "outputs": [],
   "source": [
    "from sklearn.model_selection import train_test_split"
   ]
  },
  {
   "cell_type": "code",
   "execution_count": 9,
   "metadata": {},
   "outputs": [],
   "source": [
    "X_train, X_test, y_train, y_test=train_test_split(X,y,random_state=42) # can't stratify=y cuz sample size too small"
   ]
  },
  {
   "cell_type": "code",
   "execution_count": 10,
   "metadata": {},
   "outputs": [],
   "source": [
    "from sklearn.preprocessing import StandardScaler"
   ]
  },
  {
   "cell_type": "code",
   "execution_count": 11,
   "metadata": {},
   "outputs": [],
   "source": [
    "X_scaler=StandardScaler().fit(X_train)\n",
    "X_train_scaled=X_scaler.transform(X_train)\n",
    "X_test_scaled=X_scaler.transform(X_test)"
   ]
  },
  {
   "cell_type": "code",
   "execution_count": 12,
   "metadata": {},
   "outputs": [],
   "source": [
    "from sklearn.linear_model import LinearRegression"
   ]
  },
  {
   "cell_type": "code",
   "execution_count": 13,
   "metadata": {},
   "outputs": [
    {
     "data": {
      "text/plain": [
       "LinearRegression(copy_X=True, fit_intercept=True, n_jobs=None, normalize=False)"
      ]
     },
     "execution_count": 13,
     "metadata": {},
     "output_type": "execute_result"
    }
   ],
   "source": [
    "model=LinearRegression()\n",
    "model.fit(X_train_scaled,y_train)"
   ]
  },
  {
   "cell_type": "code",
   "execution_count": 14,
   "metadata": {},
   "outputs": [
    {
     "data": {
      "text/plain": [
       "0.9968798752854675"
      ]
     },
     "execution_count": 14,
     "metadata": {},
     "output_type": "execute_result"
    }
   ],
   "source": [
    "model.score(X_train_scaled,y_train)"
   ]
  },
  {
   "cell_type": "code",
   "execution_count": 15,
   "metadata": {},
   "outputs": [
    {
     "data": {
      "text/plain": [
       "0.9956312033322654"
      ]
     },
     "execution_count": 15,
     "metadata": {},
     "output_type": "execute_result"
    }
   ],
   "source": [
    "model.score(X_test_scaled,y_test)"
   ]
  },
  {
   "cell_type": "code",
   "execution_count": 27,
   "metadata": {},
   "outputs": [],
   "source": [
    "predictions=model.predict(X_test_scaled)"
   ]
  },
  {
   "cell_type": "code",
   "execution_count": 28,
   "metadata": {},
   "outputs": [
    {
     "data": {
      "text/html": [
       "<div>\n",
       "<style scoped>\n",
       "    .dataframe tbody tr th:only-of-type {\n",
       "        vertical-align: middle;\n",
       "    }\n",
       "\n",
       "    .dataframe tbody tr th {\n",
       "        vertical-align: top;\n",
       "    }\n",
       "\n",
       "    .dataframe thead th {\n",
       "        text-align: right;\n",
       "    }\n",
       "</style>\n",
       "<table border=\"1\" class=\"dataframe\">\n",
       "  <thead>\n",
       "    <tr style=\"text-align: right;\">\n",
       "      <th></th>\n",
       "      <th>Actual</th>\n",
       "      <th>Predicted</th>\n",
       "    </tr>\n",
       "  </thead>\n",
       "  <tbody>\n",
       "    <tr>\n",
       "      <th>0</th>\n",
       "      <td>[1755]</td>\n",
       "      <td>[1729.124275442024]</td>\n",
       "    </tr>\n",
       "    <tr>\n",
       "      <th>1</th>\n",
       "      <td>[2457]</td>\n",
       "      <td>[2481.6584401417895]</td>\n",
       "    </tr>\n",
       "    <tr>\n",
       "      <th>2</th>\n",
       "      <td>[2089]</td>\n",
       "      <td>[2094.2335899844857]</td>\n",
       "    </tr>\n",
       "    <tr>\n",
       "      <th>3</th>\n",
       "      <td>[2144]</td>\n",
       "      <td>[2144.807059562172]</td>\n",
       "    </tr>\n",
       "    <tr>\n",
       "      <th>4</th>\n",
       "      <td>[1735]</td>\n",
       "      <td>[1735.0792359891623]</td>\n",
       "    </tr>\n",
       "    <tr>\n",
       "      <th>5</th>\n",
       "      <td>[1549]</td>\n",
       "      <td>[1524.1716782032179]</td>\n",
       "    </tr>\n",
       "    <tr>\n",
       "      <th>6</th>\n",
       "      <td>[1914]</td>\n",
       "      <td>[1918.8086367615747]</td>\n",
       "    </tr>\n",
       "    <tr>\n",
       "      <th>7</th>\n",
       "      <td>[3362]</td>\n",
       "      <td>[3287.0651040140906]</td>\n",
       "    </tr>\n",
       "    <tr>\n",
       "      <th>8</th>\n",
       "      <td>[1551]</td>\n",
       "      <td>[1471.7219006361076]</td>\n",
       "    </tr>\n",
       "    <tr>\n",
       "      <th>9</th>\n",
       "      <td>[3207]</td>\n",
       "      <td>[3222.7425590907737]</td>\n",
       "    </tr>\n",
       "    <tr>\n",
       "      <th>10</th>\n",
       "      <td>[1424]</td>\n",
       "      <td>[1353.9094492937722]</td>\n",
       "    </tr>\n",
       "    <tr>\n",
       "      <th>11</th>\n",
       "      <td>[1557]</td>\n",
       "      <td>[1560.4538583319825]</td>\n",
       "    </tr>\n",
       "    <tr>\n",
       "      <th>12</th>\n",
       "      <td>[1987]</td>\n",
       "      <td>[1981.864634800771]</td>\n",
       "    </tr>\n",
       "    <tr>\n",
       "      <th>13</th>\n",
       "      <td>[2271]</td>\n",
       "      <td>[2293.6121341167645]</td>\n",
       "    </tr>\n",
       "    <tr>\n",
       "      <th>14</th>\n",
       "      <td>[1573]</td>\n",
       "      <td>[1574.5936895347766]</td>\n",
       "    </tr>\n",
       "    <tr>\n",
       "      <th>15</th>\n",
       "      <td>[3352]</td>\n",
       "      <td>[3370.008711862478]</td>\n",
       "    </tr>\n",
       "    <tr>\n",
       "      <th>16</th>\n",
       "      <td>[2011]</td>\n",
       "      <td>[1998.029438537533]</td>\n",
       "    </tr>\n",
       "    <tr>\n",
       "      <th>17</th>\n",
       "      <td>[2557]</td>\n",
       "      <td>[2429.311118108728]</td>\n",
       "    </tr>\n",
       "    <tr>\n",
       "      <th>18</th>\n",
       "      <td>[1823]</td>\n",
       "      <td>[1882.0033716529601]</td>\n",
       "    </tr>\n",
       "    <tr>\n",
       "      <th>19</th>\n",
       "      <td>[1974]</td>\n",
       "      <td>[1961.799749210697]</td>\n",
       "    </tr>\n",
       "    <tr>\n",
       "      <th>20</th>\n",
       "      <td>[2037]</td>\n",
       "      <td>[2020.256901319484]</td>\n",
       "    </tr>\n",
       "    <tr>\n",
       "      <th>21</th>\n",
       "      <td>[2213]</td>\n",
       "      <td>[2229.161092400429]</td>\n",
       "    </tr>\n",
       "    <tr>\n",
       "      <th>22</th>\n",
       "      <td>[3125]</td>\n",
       "      <td>[3134.125957610501]</td>\n",
       "    </tr>\n",
       "    <tr>\n",
       "      <th>23</th>\n",
       "      <td>[2617]</td>\n",
       "      <td>[2611.319436012906]</td>\n",
       "    </tr>\n",
       "    <tr>\n",
       "      <th>24</th>\n",
       "      <td>[3516]</td>\n",
       "      <td>[3495.587010345638]</td>\n",
       "    </tr>\n",
       "    <tr>\n",
       "      <th>25</th>\n",
       "      <td>[3103]</td>\n",
       "      <td>[3138.941367907643]</td>\n",
       "    </tr>\n",
       "    <tr>\n",
       "      <th>26</th>\n",
       "      <td>[1853]</td>\n",
       "      <td>[1822.6572635627062]</td>\n",
       "    </tr>\n",
       "    <tr>\n",
       "      <th>27</th>\n",
       "      <td>[1904]</td>\n",
       "      <td>[1905.820337352582]</td>\n",
       "    </tr>\n",
       "    <tr>\n",
       "      <th>28</th>\n",
       "      <td>[1773]</td>\n",
       "      <td>[1772.0284436245743]</td>\n",
       "    </tr>\n",
       "    <tr>\n",
       "      <th>29</th>\n",
       "      <td>[1909]</td>\n",
       "      <td>[1944.8980150906027]</td>\n",
       "    </tr>\n",
       "    <tr>\n",
       "      <th>...</th>\n",
       "      <td>...</td>\n",
       "      <td>...</td>\n",
       "    </tr>\n",
       "    <tr>\n",
       "      <th>72</th>\n",
       "      <td>[1615]</td>\n",
       "      <td>[1583.8423365508575]</td>\n",
       "    </tr>\n",
       "    <tr>\n",
       "      <th>73</th>\n",
       "      <td>[2129]</td>\n",
       "      <td>[2127.2192858063986]</td>\n",
       "    </tr>\n",
       "    <tr>\n",
       "      <th>74</th>\n",
       "      <td>[2215]</td>\n",
       "      <td>[2248.114252810007]</td>\n",
       "    </tr>\n",
       "    <tr>\n",
       "      <th>75</th>\n",
       "      <td>[2144]</td>\n",
       "      <td>[2176.829618698683]</td>\n",
       "    </tr>\n",
       "    <tr>\n",
       "      <th>76</th>\n",
       "      <td>[1866]</td>\n",
       "      <td>[1848.2300907984845]</td>\n",
       "    </tr>\n",
       "    <tr>\n",
       "      <th>77</th>\n",
       "      <td>[1525]</td>\n",
       "      <td>[1512.4006554063542]</td>\n",
       "    </tr>\n",
       "    <tr>\n",
       "      <th>78</th>\n",
       "      <td>[3174]</td>\n",
       "      <td>[3203.971286450458]</td>\n",
       "    </tr>\n",
       "    <tr>\n",
       "      <th>79</th>\n",
       "      <td>[2221]</td>\n",
       "      <td>[2220.625215546789]</td>\n",
       "    </tr>\n",
       "    <tr>\n",
       "      <th>80</th>\n",
       "      <td>[1918]</td>\n",
       "      <td>[1940.7580775553765]</td>\n",
       "    </tr>\n",
       "    <tr>\n",
       "      <th>81</th>\n",
       "      <td>[2136]</td>\n",
       "      <td>[2018.627787483414]</td>\n",
       "    </tr>\n",
       "    <tr>\n",
       "      <th>82</th>\n",
       "      <td>[2485]</td>\n",
       "      <td>[2503.5688853429156]</td>\n",
       "    </tr>\n",
       "    <tr>\n",
       "      <th>83</th>\n",
       "      <td>[3123]</td>\n",
       "      <td>[3130.6837471860626]</td>\n",
       "    </tr>\n",
       "    <tr>\n",
       "      <th>84</th>\n",
       "      <td>[1785]</td>\n",
       "      <td>[1846.243871428014]</td>\n",
       "    </tr>\n",
       "    <tr>\n",
       "      <th>85</th>\n",
       "      <td>[1902]</td>\n",
       "      <td>[1902.1674066073394]</td>\n",
       "    </tr>\n",
       "    <tr>\n",
       "      <th>86</th>\n",
       "      <td>[1742]</td>\n",
       "      <td>[1778.0131639922786]</td>\n",
       "    </tr>\n",
       "    <tr>\n",
       "      <th>87</th>\n",
       "      <td>[2171]</td>\n",
       "      <td>[2080.929800713103]</td>\n",
       "    </tr>\n",
       "    <tr>\n",
       "      <th>88</th>\n",
       "      <td>[2084]</td>\n",
       "      <td>[2052.8067230877955]</td>\n",
       "    </tr>\n",
       "    <tr>\n",
       "      <th>89</th>\n",
       "      <td>[3335]</td>\n",
       "      <td>[3319.2191402982403]</td>\n",
       "    </tr>\n",
       "    <tr>\n",
       "      <th>90</th>\n",
       "      <td>[2144]</td>\n",
       "      <td>[2159.014580085856]</td>\n",
       "    </tr>\n",
       "    <tr>\n",
       "      <th>91</th>\n",
       "      <td>[2081]</td>\n",
       "      <td>[2097.2878140943167]</td>\n",
       "    </tr>\n",
       "    <tr>\n",
       "      <th>92</th>\n",
       "      <td>[1732]</td>\n",
       "      <td>[1715.7018168014956]</td>\n",
       "    </tr>\n",
       "    <tr>\n",
       "      <th>93</th>\n",
       "      <td>[3277]</td>\n",
       "      <td>[3213.251473573597]</td>\n",
       "    </tr>\n",
       "    <tr>\n",
       "      <th>94</th>\n",
       "      <td>[1876]</td>\n",
       "      <td>[1916.7900082521755]</td>\n",
       "    </tr>\n",
       "    <tr>\n",
       "      <th>95</th>\n",
       "      <td>[2266]</td>\n",
       "      <td>[2284.7919349014055]</td>\n",
       "    </tr>\n",
       "    <tr>\n",
       "      <th>96</th>\n",
       "      <td>[2282]</td>\n",
       "      <td>[2305.5500128719596]</td>\n",
       "    </tr>\n",
       "    <tr>\n",
       "      <th>97</th>\n",
       "      <td>[2212]</td>\n",
       "      <td>[2182.936698769487]</td>\n",
       "    </tr>\n",
       "    <tr>\n",
       "      <th>98</th>\n",
       "      <td>[2979]</td>\n",
       "      <td>[3000.764793652582]</td>\n",
       "    </tr>\n",
       "    <tr>\n",
       "      <th>99</th>\n",
       "      <td>[1935]</td>\n",
       "      <td>[1945.0797051323673]</td>\n",
       "    </tr>\n",
       "    <tr>\n",
       "      <th>100</th>\n",
       "      <td>[2258]</td>\n",
       "      <td>[2291.4061295856527]</td>\n",
       "    </tr>\n",
       "    <tr>\n",
       "      <th>101</th>\n",
       "      <td>[2477]</td>\n",
       "      <td>[2491.5621110603174]</td>\n",
       "    </tr>\n",
       "  </tbody>\n",
       "</table>\n",
       "<p>102 rows × 2 columns</p>\n",
       "</div>"
      ],
      "text/plain": [
       "     Actual             Predicted\n",
       "0    [1755]   [1729.124275442024]\n",
       "1    [2457]  [2481.6584401417895]\n",
       "2    [2089]  [2094.2335899844857]\n",
       "3    [2144]   [2144.807059562172]\n",
       "4    [1735]  [1735.0792359891623]\n",
       "5    [1549]  [1524.1716782032179]\n",
       "6    [1914]  [1918.8086367615747]\n",
       "7    [3362]  [3287.0651040140906]\n",
       "8    [1551]  [1471.7219006361076]\n",
       "9    [3207]  [3222.7425590907737]\n",
       "10   [1424]  [1353.9094492937722]\n",
       "11   [1557]  [1560.4538583319825]\n",
       "12   [1987]   [1981.864634800771]\n",
       "13   [2271]  [2293.6121341167645]\n",
       "14   [1573]  [1574.5936895347766]\n",
       "15   [3352]   [3370.008711862478]\n",
       "16   [2011]   [1998.029438537533]\n",
       "17   [2557]   [2429.311118108728]\n",
       "18   [1823]  [1882.0033716529601]\n",
       "19   [1974]   [1961.799749210697]\n",
       "20   [2037]   [2020.256901319484]\n",
       "21   [2213]   [2229.161092400429]\n",
       "22   [3125]   [3134.125957610501]\n",
       "23   [2617]   [2611.319436012906]\n",
       "24   [3516]   [3495.587010345638]\n",
       "25   [3103]   [3138.941367907643]\n",
       "26   [1853]  [1822.6572635627062]\n",
       "27   [1904]   [1905.820337352582]\n",
       "28   [1773]  [1772.0284436245743]\n",
       "29   [1909]  [1944.8980150906027]\n",
       "..      ...                   ...\n",
       "72   [1615]  [1583.8423365508575]\n",
       "73   [2129]  [2127.2192858063986]\n",
       "74   [2215]   [2248.114252810007]\n",
       "75   [2144]   [2176.829618698683]\n",
       "76   [1866]  [1848.2300907984845]\n",
       "77   [1525]  [1512.4006554063542]\n",
       "78   [3174]   [3203.971286450458]\n",
       "79   [2221]   [2220.625215546789]\n",
       "80   [1918]  [1940.7580775553765]\n",
       "81   [2136]   [2018.627787483414]\n",
       "82   [2485]  [2503.5688853429156]\n",
       "83   [3123]  [3130.6837471860626]\n",
       "84   [1785]   [1846.243871428014]\n",
       "85   [1902]  [1902.1674066073394]\n",
       "86   [1742]  [1778.0131639922786]\n",
       "87   [2171]   [2080.929800713103]\n",
       "88   [2084]  [2052.8067230877955]\n",
       "89   [3335]  [3319.2191402982403]\n",
       "90   [2144]   [2159.014580085856]\n",
       "91   [2081]  [2097.2878140943167]\n",
       "92   [1732]  [1715.7018168014956]\n",
       "93   [3277]   [3213.251473573597]\n",
       "94   [1876]  [1916.7900082521755]\n",
       "95   [2266]  [2284.7919349014055]\n",
       "96   [2282]  [2305.5500128719596]\n",
       "97   [2212]   [2182.936698769487]\n",
       "98   [2979]   [3000.764793652582]\n",
       "99   [1935]  [1945.0797051323673]\n",
       "100  [2258]  [2291.4061295856527]\n",
       "101  [2477]  [2491.5621110603174]\n",
       "\n",
       "[102 rows x 2 columns]"
      ]
     },
     "execution_count": 28,
     "metadata": {},
     "output_type": "execute_result"
    }
   ],
   "source": [
    "df=pd.DataFrame({'Actual':y_test.values.tolist(),'Predicted':predictions.tolist()})\n",
    "df"
   ]
  },
  {
   "cell_type": "code",
   "execution_count": 29,
   "metadata": {},
   "outputs": [],
   "source": [
    "import shap"
   ]
  },
  {
   "cell_type": "code",
   "execution_count": 31,
   "metadata": {},
   "outputs": [],
   "source": [
    "explainer = shap.LinearExplainer(model, X_train_scaled, feature_dependence=\"independent\")\n",
    "shap_values = explainer.shap_values(X_test_scaled)\n",
    "X_test_scaled_array = X_test_scaled"
   ]
  },
  {
   "cell_type": "code",
   "execution_count": 33,
   "metadata": {},
   "outputs": [
    {
     "data": {
      "image/png": "[encoded data removed]",
      "text/plain": [
       "<Figure size 576x252 with 2 Axes>"
      ]
     },
     "metadata": {
      "needs_background": "light"
     },
     "output_type": "display_data"
    }
   ],
   "source": [
    "shap.summary_plot(shap_values, X_test_scaled_array, feature_names=X.columns)"
   ]
  },
  {
   "cell_type": "code",
   "execution_count": 34,
   "metadata": {},
   "outputs": [
    {
     "data": {
      "image/png": "[encoded data removed]",
      "text/plain": [
       "<Figure size 576x252 with 1 Axes>"
      ]
     },
     "metadata": {
      "needs_background": "light"
     },
     "output_type": "display_data"
    }
   ],
   "source": [
    "shap.summary_plot(shap_values, X.columns, plot_type=\"bar\")"
   ]
  },
  {
   "cell_type": "code",
   "execution_count": 36,
   "metadata": {},
   "outputs": [
    {
     "data": {
      "text/plain": [
       "(405, 9)"
      ]
     },
     "execution_count": 36,
     "metadata": {},
     "output_type": "execute_result"
    }
   ],
   "source": [
    "data.shape"
   ]
  },
  {
   "cell_type": "code",
   "execution_count": null,
   "metadata": {},
   "outputs": [],
   "source": []
  },
  {
   "cell_type": "code",
   "execution_count": null,
   "metadata": {},
   "outputs": [],
   "source": []
  },
  {
   "cell_type": "code",
   "execution_count": null,
   "metadata": {},
   "outputs": [],
   "source": []
  },
  {
   "cell_type": "code",
   "execution_count": null,
   "metadata": {},
   "outputs": [],
   "source": []
  },
  {
   "cell_type": "code",
   "execution_count": null,
   "metadata": {},
   "outputs": [],
   "source": []
  }
 ],
 "metadata": {
  "kernelspec": {
   "display_name": "Python 3",
   "language": "python",
   "name": "python3"
  },
  "language_info": {
   "codemirror_mode": {
    "name": "ipython",
    "version": 3
   },
   "file_extension": ".py",
   "mimetype": "text/x-python",
   "name": "python",
   "nbconvert_exporter": "python",
   "pygments_lexer": "ipython3",
   "version": "3.7.3"
  }
 },
 "nbformat": 4,
 "nbformat_minor": 2
}
