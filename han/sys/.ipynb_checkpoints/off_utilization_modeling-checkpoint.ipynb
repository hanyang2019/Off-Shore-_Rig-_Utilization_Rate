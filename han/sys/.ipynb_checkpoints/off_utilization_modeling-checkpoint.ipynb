{
 "cells": [
  {
   "cell_type": "code",
   "execution_count": 1,
   "metadata": {},
   "outputs": [],
   "source": [
    "import pandas as pd"
   ]
  },
  {
   "cell_type": "code",
   "execution_count": 2,
   "metadata": {},
   "outputs": [],
   "source": [
    "data=pd.read_excel('../Data/Model_Data.xlsx')"
   ]
  },
  {
   "cell_type": "code",
   "execution_count": 3,
   "metadata": {},
   "outputs": [
    {
     "data": {
      "text/html": [
       "<div>\n",
       "<style scoped>\n",
       "    .dataframe tbody tr th:only-of-type {\n",
       "        vertical-align: middle;\n",
       "    }\n",
       "\n",
       "    .dataframe tbody tr th {\n",
       "        vertical-align: top;\n",
       "    }\n",
       "\n",
       "    .dataframe thead th {\n",
       "        text-align: right;\n",
       "    }\n",
       "</style>\n",
       "<table border=\"1\" class=\"dataframe\">\n",
       "  <thead>\n",
       "    <tr style=\"text-align: right;\">\n",
       "      <th></th>\n",
       "      <th>Date</th>\n",
       "      <th>Active_Rig_Count</th>\n",
       "      <th>Offshore_Rig_Supply</th>\n",
       "      <th>Offshore_Rig_Active</th>\n",
       "      <th>Offshore_Utilization_Rate</th>\n",
       "      <th>Land_Rig_Count</th>\n",
       "      <th>Crude_Price_2010_USD</th>\n",
       "      <th>World_Petrol_Cunsump</th>\n",
       "      <th>World_Petrol_Production</th>\n",
       "    </tr>\n",
       "  </thead>\n",
       "  <tbody>\n",
       "    <tr>\n",
       "      <th>0</th>\n",
       "      <td>1975-01-01</td>\n",
       "      <td>2694</td>\n",
       "      <td>NaN</td>\n",
       "      <td>NaN</td>\n",
       "      <td>NaN</td>\n",
       "      <td>NaN</td>\n",
       "      <td>46.53</td>\n",
       "      <td>47035.548</td>\n",
       "      <td>47035.548</td>\n",
       "    </tr>\n",
       "    <tr>\n",
       "      <th>1</th>\n",
       "      <td>1975-02-01</td>\n",
       "      <td>2718</td>\n",
       "      <td>NaN</td>\n",
       "      <td>NaN</td>\n",
       "      <td>NaN</td>\n",
       "      <td>NaN</td>\n",
       "      <td>46.27</td>\n",
       "      <td>46047.671</td>\n",
       "      <td>46047.671</td>\n",
       "    </tr>\n",
       "    <tr>\n",
       "      <th>2</th>\n",
       "      <td>1975-03-01</td>\n",
       "      <td>2769</td>\n",
       "      <td>NaN</td>\n",
       "      <td>NaN</td>\n",
       "      <td>NaN</td>\n",
       "      <td>NaN</td>\n",
       "      <td>46.09</td>\n",
       "      <td>46091.935</td>\n",
       "      <td>46091.935</td>\n",
       "    </tr>\n",
       "    <tr>\n",
       "      <th>3</th>\n",
       "      <td>1975-04-01</td>\n",
       "      <td>2593</td>\n",
       "      <td>NaN</td>\n",
       "      <td>NaN</td>\n",
       "      <td>NaN</td>\n",
       "      <td>NaN</td>\n",
       "      <td>45.92</td>\n",
       "      <td>45721.056</td>\n",
       "      <td>45721.056</td>\n",
       "    </tr>\n",
       "    <tr>\n",
       "      <th>4</th>\n",
       "      <td>1975-05-01</td>\n",
       "      <td>2557</td>\n",
       "      <td>NaN</td>\n",
       "      <td>NaN</td>\n",
       "      <td>NaN</td>\n",
       "      <td>NaN</td>\n",
       "      <td>45.83</td>\n",
       "      <td>46119.653</td>\n",
       "      <td>46119.653</td>\n",
       "    </tr>\n",
       "  </tbody>\n",
       "</table>\n",
       "</div>"
      ],
      "text/plain": [
       "        Date  Active_Rig_Count  Offshore_Rig_Supply  Offshore_Rig_Active  \\\n",
       "0 1975-01-01              2694                  NaN                  NaN   \n",
       "1 1975-02-01              2718                  NaN                  NaN   \n",
       "2 1975-03-01              2769                  NaN                  NaN   \n",
       "3 1975-04-01              2593                  NaN                  NaN   \n",
       "4 1975-05-01              2557                  NaN                  NaN   \n",
       "\n",
       "   Offshore_Utilization_Rate  Land_Rig_Count  Crude_Price_2010_USD  \\\n",
       "0                        NaN             NaN                 46.53   \n",
       "1                        NaN             NaN                 46.27   \n",
       "2                        NaN             NaN                 46.09   \n",
       "3                        NaN             NaN                 45.92   \n",
       "4                        NaN             NaN                 45.83   \n",
       "\n",
       "   World_Petrol_Cunsump  World_Petrol_Production  \n",
       "0             47035.548                47035.548  \n",
       "1             46047.671                46047.671  \n",
       "2             46091.935                46091.935  \n",
       "3             45721.056                45721.056  \n",
       "4             46119.653                46119.653  "
      ]
     },
     "execution_count": 3,
     "metadata": {},
     "output_type": "execute_result"
    }
   ],
   "source": [
    "data.head(5)"
   ]
  },
  {
   "cell_type": "code",
   "execution_count": 4,
   "metadata": {},
   "outputs": [],
   "source": [
    "data.dropna(inplace=True, how='any')"
   ]
  },
  {
   "cell_type": "code",
   "execution_count": 5,
   "metadata": {},
   "outputs": [
    {
     "data": {
      "text/plain": [
       "Index(['Date', 'Active_Rig_Count', 'Offshore_Rig_Supply',\n",
       "       'Offshore_Rig_Active', 'Offshore_Utilization_Rate', 'Land_Rig_Count',\n",
       "       'Crude_Price_2010_USD', 'World_Petrol_Cunsump',\n",
       "       'World_Petrol_Production'],\n",
       "      dtype='object')"
      ]
     },
     "execution_count": 5,
     "metadata": {},
     "output_type": "execute_result"
    }
   ],
   "source": [
    "data.columns"
   ]
  },
  {
   "cell_type": "code",
   "execution_count": 6,
   "metadata": {},
   "outputs": [],
   "source": [
    "X=data[['Active_Rig_Count', 'Land_Rig_Count',\n",
    "       'Crude_Price_2010_USD', 'World_Petrol_Cunsump',\n",
    "       'World_Petrol_Production']]"
   ]
  },
  {
   "cell_type": "code",
   "execution_count": 7,
   "metadata": {},
   "outputs": [],
   "source": [
    "y=data[['Offshore_Utilization_Rate']]"
   ]
  },
  {
   "cell_type": "code",
   "execution_count": 8,
   "metadata": {},
   "outputs": [],
   "source": [
    "from sklearn.model_selection import train_test_split"
   ]
  },
  {
   "cell_type": "code",
   "execution_count": 9,
   "metadata": {},
   "outputs": [],
   "source": [
    "X_train, X_test, y_train, y_test=train_test_split(X,y,random_state=42) # can't stratify=y cuz sample size too small"
   ]
  },
  {
   "cell_type": "code",
   "execution_count": 10,
   "metadata": {},
   "outputs": [],
   "source": [
    "from sklearn.preprocessing import StandardScaler"
   ]
  },
  {
   "cell_type": "code",
   "execution_count": 11,
   "metadata": {},
   "outputs": [],
   "source": [
    "X_scaler=StandardScaler().fit(X_train)\n",
    "X_train_scaled=X_scaler.transform(X_train)\n",
    "X_test_scaled=X_scaler.transform(X_test)"
   ]
  },
  {
   "cell_type": "code",
   "execution_count": 12,
   "metadata": {},
   "outputs": [],
   "source": [
    "from sklearn.linear_model import LinearRegression"
   ]
  },
  {
   "cell_type": "code",
   "execution_count": 13,
   "metadata": {},
   "outputs": [
    {
     "data": {
      "text/plain": [
       "LinearRegression(copy_X=True, fit_intercept=True, n_jobs=None, normalize=False)"
      ]
     },
     "execution_count": 13,
     "metadata": {},
     "output_type": "execute_result"
    }
   ],
   "source": [
    "model=LinearRegression()\n",
    "model.fit(X_train_scaled,y_train)"
   ]
  },
  {
   "cell_type": "code",
   "execution_count": 14,
   "metadata": {},
   "outputs": [
    {
     "data": {
      "text/plain": [
       "0.4953968579918774"
      ]
     },
     "execution_count": 14,
     "metadata": {},
     "output_type": "execute_result"
    }
   ],
   "source": [
    "model.score(X_train_scaled,y_train)"
   ]
  },
  {
   "cell_type": "code",
   "execution_count": 15,
   "metadata": {},
   "outputs": [
    {
     "data": {
      "text/plain": [
       "0.5031156243590191"
      ]
     },
     "execution_count": 15,
     "metadata": {},
     "output_type": "execute_result"
    }
   ],
   "source": [
    "model.score(X_test_scaled,y_test)"
   ]
  },
  {
   "cell_type": "code",
   "execution_count": 16,
   "metadata": {},
   "outputs": [],
   "source": [
    "predictions=model.predict(X_test_scaled)"
   ]
  },
  {
   "cell_type": "code",
   "execution_count": 17,
   "metadata": {},
   "outputs": [
    {
     "data": {
      "text/html": [
       "<div>\n",
       "<style scoped>\n",
       "    .dataframe tbody tr th:only-of-type {\n",
       "        vertical-align: middle;\n",
       "    }\n",
       "\n",
       "    .dataframe tbody tr th {\n",
       "        vertical-align: top;\n",
       "    }\n",
       "\n",
       "    .dataframe thead th {\n",
       "        text-align: right;\n",
       "    }\n",
       "</style>\n",
       "<table border=\"1\" class=\"dataframe\">\n",
       "  <thead>\n",
       "    <tr style=\"text-align: right;\">\n",
       "      <th></th>\n",
       "      <th>Actual</th>\n",
       "      <th>Predicted</th>\n",
       "    </tr>\n",
       "  </thead>\n",
       "  <tbody>\n",
       "    <tr>\n",
       "      <th>0</th>\n",
       "      <td>[79.17]</td>\n",
       "      <td>[76.22738674993914]</td>\n",
       "    </tr>\n",
       "    <tr>\n",
       "      <th>1</th>\n",
       "      <td>[80.56]</td>\n",
       "      <td>[84.01246012867799]</td>\n",
       "    </tr>\n",
       "    <tr>\n",
       "      <th>2</th>\n",
       "      <td>[58.5]</td>\n",
       "      <td>[73.461245156013]</td>\n",
       "    </tr>\n",
       "    <tr>\n",
       "      <th>3</th>\n",
       "      <td>[73.86]</td>\n",
       "      <td>[74.84539823392217]</td>\n",
       "    </tr>\n",
       "    <tr>\n",
       "      <th>4</th>\n",
       "      <td>[75.01]</td>\n",
       "      <td>[70.10851543797938]</td>\n",
       "    </tr>\n",
       "    <tr>\n",
       "      <th>5</th>\n",
       "      <td>[73.7]</td>\n",
       "      <td>[76.5228497046306]</td>\n",
       "    </tr>\n",
       "    <tr>\n",
       "      <th>6</th>\n",
       "      <td>[93.15]</td>\n",
       "      <td>[80.36922213920104]</td>\n",
       "    </tr>\n",
       "    <tr>\n",
       "      <th>7</th>\n",
       "      <td>[87.57]</td>\n",
       "      <td>[90.14209160325117]</td>\n",
       "    </tr>\n",
       "    <tr>\n",
       "      <th>8</th>\n",
       "      <td>[63.49]</td>\n",
       "      <td>[75.7122700494613]</td>\n",
       "    </tr>\n",
       "    <tr>\n",
       "      <th>9</th>\n",
       "      <td>[91.99]</td>\n",
       "      <td>[90.39779871132504]</td>\n",
       "    </tr>\n",
       "    <tr>\n",
       "      <th>10</th>\n",
       "      <td>[62.49]</td>\n",
       "      <td>[72.27690192554056]</td>\n",
       "    </tr>\n",
       "    <tr>\n",
       "      <th>11</th>\n",
       "      <td>[73.6]</td>\n",
       "      <td>[70.44062341860754]</td>\n",
       "    </tr>\n",
       "    <tr>\n",
       "      <th>12</th>\n",
       "      <td>[81.29]</td>\n",
       "      <td>[73.7755689589861]</td>\n",
       "    </tr>\n",
       "    <tr>\n",
       "      <th>13</th>\n",
       "      <td>[58.2]</td>\n",
       "      <td>[72.7505949776307]</td>\n",
       "    </tr>\n",
       "    <tr>\n",
       "      <th>14</th>\n",
       "      <td>[85.6]</td>\n",
       "      <td>[77.35056703979649]</td>\n",
       "    </tr>\n",
       "    <tr>\n",
       "      <th>15</th>\n",
       "      <td>[92.36]</td>\n",
       "      <td>[93.50056667141607]</td>\n",
       "    </tr>\n",
       "    <tr>\n",
       "      <th>16</th>\n",
       "      <td>[84.93]</td>\n",
       "      <td>[84.57750875526199]</td>\n",
       "    </tr>\n",
       "    <tr>\n",
       "      <th>17</th>\n",
       "      <td>[79.15]</td>\n",
       "      <td>[87.63920674706591]</td>\n",
       "    </tr>\n",
       "    <tr>\n",
       "      <th>18</th>\n",
       "      <td>[57.89]</td>\n",
       "      <td>[61.673327259519084]</td>\n",
       "    </tr>\n",
       "    <tr>\n",
       "      <th>19</th>\n",
       "      <td>[80.0]</td>\n",
       "      <td>[83.3441914163625]</td>\n",
       "    </tr>\n",
       "    <tr>\n",
       "      <th>20</th>\n",
       "      <td>[81.06]</td>\n",
       "      <td>[77.7896786864197]</td>\n",
       "    </tr>\n",
       "    <tr>\n",
       "      <th>21</th>\n",
       "      <td>[66.79]</td>\n",
       "      <td>[71.47451230291242]</td>\n",
       "    </tr>\n",
       "    <tr>\n",
       "      <th>22</th>\n",
       "      <td>[92.69]</td>\n",
       "      <td>[92.07828976716797]</td>\n",
       "    </tr>\n",
       "    <tr>\n",
       "      <th>23</th>\n",
       "      <td>[89.41]</td>\n",
       "      <td>[90.91748816397066]</td>\n",
       "    </tr>\n",
       "    <tr>\n",
       "      <th>24</th>\n",
       "      <td>[85.11]</td>\n",
       "      <td>[85.23280131086648]</td>\n",
       "    </tr>\n",
       "    <tr>\n",
       "      <th>25</th>\n",
       "      <td>[78.4]</td>\n",
       "      <td>[75.41795757953315]</td>\n",
       "    </tr>\n",
       "    <tr>\n",
       "      <th>26</th>\n",
       "      <td>[76.98]</td>\n",
       "      <td>[81.94487255783278]</td>\n",
       "    </tr>\n",
       "    <tr>\n",
       "      <th>27</th>\n",
       "      <td>[80.22]</td>\n",
       "      <td>[79.1229022362275]</td>\n",
       "    </tr>\n",
       "    <tr>\n",
       "      <th>28</th>\n",
       "      <td>[79.69]</td>\n",
       "      <td>[80.83656702432728]</td>\n",
       "    </tr>\n",
       "    <tr>\n",
       "      <th>29</th>\n",
       "      <td>[56.52]</td>\n",
       "      <td>[69.32327842927]</td>\n",
       "    </tr>\n",
       "    <tr>\n",
       "      <th>...</th>\n",
       "      <td>...</td>\n",
       "      <td>...</td>\n",
       "    </tr>\n",
       "    <tr>\n",
       "      <th>72</th>\n",
       "      <td>[73.82]</td>\n",
       "      <td>[78.8100332747915]</td>\n",
       "    </tr>\n",
       "    <tr>\n",
       "      <th>73</th>\n",
       "      <td>[86.68]</td>\n",
       "      <td>[82.98045369082864]</td>\n",
       "    </tr>\n",
       "    <tr>\n",
       "      <th>74</th>\n",
       "      <td>[92.89]</td>\n",
       "      <td>[78.64110107374663]</td>\n",
       "    </tr>\n",
       "    <tr>\n",
       "      <th>75</th>\n",
       "      <td>[65.85]</td>\n",
       "      <td>[68.17168563111912]</td>\n",
       "    </tr>\n",
       "    <tr>\n",
       "      <th>76</th>\n",
       "      <td>[77.47]</td>\n",
       "      <td>[76.18941541873866]</td>\n",
       "    </tr>\n",
       "    <tr>\n",
       "      <th>77</th>\n",
       "      <td>[80.79]</td>\n",
       "      <td>[72.90359898419362]</td>\n",
       "    </tr>\n",
       "    <tr>\n",
       "      <th>78</th>\n",
       "      <td>[92.57]</td>\n",
       "      <td>[89.09471188901247]</td>\n",
       "    </tr>\n",
       "    <tr>\n",
       "      <th>79</th>\n",
       "      <td>[68.96]</td>\n",
       "      <td>[73.7086702719026]</td>\n",
       "    </tr>\n",
       "    <tr>\n",
       "      <th>80</th>\n",
       "      <td>[54.84]</td>\n",
       "      <td>[66.79669451478097]</td>\n",
       "    </tr>\n",
       "    <tr>\n",
       "      <th>81</th>\n",
       "      <td>[75.46]</td>\n",
       "      <td>[82.92405917376547]</td>\n",
       "    </tr>\n",
       "    <tr>\n",
       "      <th>82</th>\n",
       "      <td>[90.71]</td>\n",
       "      <td>[82.48611655933215]</td>\n",
       "    </tr>\n",
       "    <tr>\n",
       "      <th>83</th>\n",
       "      <td>[78.04]</td>\n",
       "      <td>[82.87718267005019]</td>\n",
       "    </tr>\n",
       "    <tr>\n",
       "      <th>84</th>\n",
       "      <td>[61.93]</td>\n",
       "      <td>[59.70976715023144]</td>\n",
       "    </tr>\n",
       "    <tr>\n",
       "      <th>85</th>\n",
       "      <td>[90.8]</td>\n",
       "      <td>[82.17266955468543]</td>\n",
       "    </tr>\n",
       "    <tr>\n",
       "      <th>86</th>\n",
       "      <td>[82.09]</td>\n",
       "      <td>[73.19195759631369]</td>\n",
       "    </tr>\n",
       "    <tr>\n",
       "      <th>87</th>\n",
       "      <td>[70.83]</td>\n",
       "      <td>[80.79029812221879]</td>\n",
       "    </tr>\n",
       "    <tr>\n",
       "      <th>88</th>\n",
       "      <td>[79.33]</td>\n",
       "      <td>[82.06300139017478]</td>\n",
       "    </tr>\n",
       "    <tr>\n",
       "      <th>89</th>\n",
       "      <td>[83.89]</td>\n",
       "      <td>[82.86320799582006]</td>\n",
       "    </tr>\n",
       "    <tr>\n",
       "      <th>90</th>\n",
       "      <td>[80.66]</td>\n",
       "      <td>[79.4935257464]</td>\n",
       "    </tr>\n",
       "    <tr>\n",
       "      <th>91</th>\n",
       "      <td>[57.69]</td>\n",
       "      <td>[69.93689135220754]</td>\n",
       "    </tr>\n",
       "    <tr>\n",
       "      <th>92</th>\n",
       "      <td>[80.08]</td>\n",
       "      <td>[77.3483661956777]</td>\n",
       "    </tr>\n",
       "    <tr>\n",
       "      <th>93</th>\n",
       "      <td>[87.44]</td>\n",
       "      <td>[86.4582143153641]</td>\n",
       "    </tr>\n",
       "    <tr>\n",
       "      <th>94</th>\n",
       "      <td>[79.97]</td>\n",
       "      <td>[73.90464898878304]</td>\n",
       "    </tr>\n",
       "    <tr>\n",
       "      <th>95</th>\n",
       "      <td>[63.68]</td>\n",
       "      <td>[73.35291637476311]</td>\n",
       "    </tr>\n",
       "    <tr>\n",
       "      <th>96</th>\n",
       "      <td>[82.17]</td>\n",
       "      <td>[81.14070832796654]</td>\n",
       "    </tr>\n",
       "    <tr>\n",
       "      <th>97</th>\n",
       "      <td>[86.67]</td>\n",
       "      <td>[89.99950789863277]</td>\n",
       "    </tr>\n",
       "    <tr>\n",
       "      <th>98</th>\n",
       "      <td>[93.13]</td>\n",
       "      <td>[87.79023987696266]</td>\n",
       "    </tr>\n",
       "    <tr>\n",
       "      <th>99</th>\n",
       "      <td>[56.45]</td>\n",
       "      <td>[68.99338229522121]</td>\n",
       "    </tr>\n",
       "    <tr>\n",
       "      <th>100</th>\n",
       "      <td>[62.96]</td>\n",
       "      <td>[70.28265555656324]</td>\n",
       "    </tr>\n",
       "    <tr>\n",
       "      <th>101</th>\n",
       "      <td>[80.67]</td>\n",
       "      <td>[86.71491165047178]</td>\n",
       "    </tr>\n",
       "  </tbody>\n",
       "</table>\n",
       "<p>102 rows × 2 columns</p>\n",
       "</div>"
      ],
      "text/plain": [
       "      Actual             Predicted\n",
       "0    [79.17]   [76.22738674993914]\n",
       "1    [80.56]   [84.01246012867799]\n",
       "2     [58.5]     [73.461245156013]\n",
       "3    [73.86]   [74.84539823392217]\n",
       "4    [75.01]   [70.10851543797938]\n",
       "5     [73.7]    [76.5228497046306]\n",
       "6    [93.15]   [80.36922213920104]\n",
       "7    [87.57]   [90.14209160325117]\n",
       "8    [63.49]    [75.7122700494613]\n",
       "9    [91.99]   [90.39779871132504]\n",
       "10   [62.49]   [72.27690192554056]\n",
       "11    [73.6]   [70.44062341860754]\n",
       "12   [81.29]    [73.7755689589861]\n",
       "13    [58.2]    [72.7505949776307]\n",
       "14    [85.6]   [77.35056703979649]\n",
       "15   [92.36]   [93.50056667141607]\n",
       "16   [84.93]   [84.57750875526199]\n",
       "17   [79.15]   [87.63920674706591]\n",
       "18   [57.89]  [61.673327259519084]\n",
       "19    [80.0]    [83.3441914163625]\n",
       "20   [81.06]    [77.7896786864197]\n",
       "21   [66.79]   [71.47451230291242]\n",
       "22   [92.69]   [92.07828976716797]\n",
       "23   [89.41]   [90.91748816397066]\n",
       "24   [85.11]   [85.23280131086648]\n",
       "25    [78.4]   [75.41795757953315]\n",
       "26   [76.98]   [81.94487255783278]\n",
       "27   [80.22]    [79.1229022362275]\n",
       "28   [79.69]   [80.83656702432728]\n",
       "29   [56.52]      [69.32327842927]\n",
       "..       ...                   ...\n",
       "72   [73.82]    [78.8100332747915]\n",
       "73   [86.68]   [82.98045369082864]\n",
       "74   [92.89]   [78.64110107374663]\n",
       "75   [65.85]   [68.17168563111912]\n",
       "76   [77.47]   [76.18941541873866]\n",
       "77   [80.79]   [72.90359898419362]\n",
       "78   [92.57]   [89.09471188901247]\n",
       "79   [68.96]    [73.7086702719026]\n",
       "80   [54.84]   [66.79669451478097]\n",
       "81   [75.46]   [82.92405917376547]\n",
       "82   [90.71]   [82.48611655933215]\n",
       "83   [78.04]   [82.87718267005019]\n",
       "84   [61.93]   [59.70976715023144]\n",
       "85    [90.8]   [82.17266955468543]\n",
       "86   [82.09]   [73.19195759631369]\n",
       "87   [70.83]   [80.79029812221879]\n",
       "88   [79.33]   [82.06300139017478]\n",
       "89   [83.89]   [82.86320799582006]\n",
       "90   [80.66]       [79.4935257464]\n",
       "91   [57.69]   [69.93689135220754]\n",
       "92   [80.08]    [77.3483661956777]\n",
       "93   [87.44]    [86.4582143153641]\n",
       "94   [79.97]   [73.90464898878304]\n",
       "95   [63.68]   [73.35291637476311]\n",
       "96   [82.17]   [81.14070832796654]\n",
       "97   [86.67]   [89.99950789863277]\n",
       "98   [93.13]   [87.79023987696266]\n",
       "99   [56.45]   [68.99338229522121]\n",
       "100  [62.96]   [70.28265555656324]\n",
       "101  [80.67]   [86.71491165047178]\n",
       "\n",
       "[102 rows x 2 columns]"
      ]
     },
     "execution_count": 17,
     "metadata": {},
     "output_type": "execute_result"
    }
   ],
   "source": [
    "df=pd.DataFrame({'Actual':y_test.values.tolist(),'Predicted':predictions.tolist()})\n",
    "df"
   ]
  },
  {
   "cell_type": "code",
   "execution_count": 18,
   "metadata": {},
   "outputs": [],
   "source": [
    "import shap"
   ]
  },
  {
   "cell_type": "code",
   "execution_count": 19,
   "metadata": {},
   "outputs": [],
   "source": [
    "explainer = shap.LinearExplainer(model, X_train_scaled, feature_dependence=\"independent\")\n",
    "shap_values = explainer.shap_values(X_test_scaled)\n",
    "X_test_scaled_array = X_test_scaled"
   ]
  },
  {
   "cell_type": "code",
   "execution_count": 20,
   "metadata": {},
   "outputs": [
    {
     "data": {
      "image/png": "[encoded data removed]",
      "text/plain": [
       "<Figure size 576x252 with 2 Axes>"
      ]
     },
     "metadata": {
      "needs_background": "light"
     },
     "output_type": "display_data"
    }
   ],
   "source": [
    "shap.summary_plot(shap_values, X_test_scaled_array, feature_names=X.columns)"
   ]
  },
  {
   "cell_type": "code",
   "execution_count": 21,
   "metadata": {},
   "outputs": [
    {
     "data": {
      "image/png": "[encoded data removed]",
      "text/plain": [
       "<Figure size 576x252 with 1 Axes>"
      ]
     },
     "metadata": {
      "needs_background": "light"
     },
     "output_type": "display_data"
    }
   ],
   "source": [
    "shap.summary_plot(shap_values, X.columns, plot_type=\"bar\")"
   ]
  },
  {
   "cell_type": "code",
   "execution_count": 22,
   "metadata": {},
   "outputs": [
    {
     "data": {
      "text/plain": [
       "(405, 9)"
      ]
     },
     "execution_count": 22,
     "metadata": {},
     "output_type": "execute_result"
    }
   ],
   "source": [
    "data.shape"
   ]
  },
  {
   "cell_type": "code",
   "execution_count": null,
   "metadata": {},
   "outputs": [],
   "source": []
  },
  {
   "cell_type": "code",
   "execution_count": null,
   "metadata": {},
   "outputs": [],
   "source": []
  },
  {
   "cell_type": "code",
   "execution_count": null,
   "metadata": {},
   "outputs": [],
   "source": []
  },
  {
   "cell_type": "code",
   "execution_count": null,
   "metadata": {},
   "outputs": [],
   "source": []
  },
  {
   "cell_type": "code",
   "execution_count": null,
   "metadata": {},
   "outputs": [],
   "source": []
  }
 ],
 "metadata": {
  "kernelspec": {
   "display_name": "Python 3",
   "language": "python",
   "name": "python3"
  },
  "language_info": {
   "codemirror_mode": {
    "name": "ipython",
    "version": 3
   },
   "file_extension": ".py",
   "mimetype": "text/x-python",
   "name": "python",
   "nbconvert_exporter": "python",
   "pygments_lexer": "ipython3",
   "version": "3.7.3"
  }
 },
 "nbformat": 4,
 "nbformat_minor": 2
}
