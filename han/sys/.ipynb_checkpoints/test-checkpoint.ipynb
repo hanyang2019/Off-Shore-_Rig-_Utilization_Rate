{
 "cells": [
  {
   "cell_type": "code",
   "execution_count": 1,
   "metadata": {},
   "outputs": [
    {
     "name": "stderr",
     "output_type": "stream",
     "text": [
      "Using TensorFlow backend.\n"
     ]
    }
   ],
   "source": [
    "from math import sqrt\n",
    "from numpy import concatenate\n",
    "from matplotlib import pyplot\n",
    "from pandas import read_csv\n",
    "from pandas import DataFrame\n",
    "from pandas import concat\n",
    "from sklearn.preprocessing import MinMaxScaler\n",
    "from sklearn.preprocessing import LabelEncoder\n",
    "from sklearn.metrics import mean_squared_error\n",
    "from keras.models import Sequential\n",
    "from keras.layers import Dense\n",
    "from keras.layers import LSTM\n",
    "import pandas as pd\n",
    " "
   ]
  },
  {
   "cell_type": "code",
   "execution_count": 15,
   "metadata": {},
   "outputs": [],
   "source": [
    "# convert series to supervised learning\n",
    "def series_to_supervised(data, n_in=1, n_out=1, dropnan=True):\n",
    "            n_vars = 1 if type(data) is list else data.shape[1]\n",
    "            df = DataFrame(data)\n",
    "            header=df.columns.tolist()\n",
    "            cols, names = list(), list()\n",
    "            # input sequence (t-n, ... t-1)\n",
    "            for i in range(n_in, 0, -1):\n",
    "                cols.append(df.shift(i))\n",
    "                names+=[f'{header[j]}(t-1)' for j in range(n_vars)]\n",
    "            # forecast sequence (t, t+1, ... t+n)\n",
    "            for i in range(0, n_out):\n",
    "                cols.append(df.shift(-i))\n",
    "                if i == 0:\n",
    "                    names += [('%s(t)' % (df.columns[j])) for j in range(n_vars)]\n",
    "                else:\n",
    "                    names += [('%s(t+%d)' % (df.columns[j], i)) for j in range(n_vars)]\n",
    "            # put it all together\n",
    "            agg = concat(cols, axis=1)\n",
    "            agg.columns = names\n",
    "            # drop rows with NaN values\n",
    "            if dropnan:\n",
    "                agg.dropna(inplace=True)\n",
    "            return agg"
   ]
  },
  {
   "cell_type": "code",
   "execution_count": 3,
   "metadata": {},
   "outputs": [],
   "source": [
    "data=pd.read_excel('../Data/Model_Data_Rev1.xlsx')\n",
    "data.dropna(inplace=True, how='any')\n",
    "data.set_index(['Date'], inplace=True)\n",
    "data=data[['Offshore_Utilization_Rate', 'Active_Rig_Count',\n",
    "       \n",
    "       'Land_Rig_Active_Count', 'Crude_Price_2010_USD',\n",
    "       'Adjusted_Nat_Gas_Price_2010', 'World_Oil_Cunsump',\n",
    "       'World_Oil_Production']]"
   ]
  },
  {
   "cell_type": "code",
   "execution_count": 4,
   "metadata": {},
   "outputs": [],
   "source": [
    "values = data.values"
   ]
  },
  {
   "cell_type": "code",
   "execution_count": 16,
   "metadata": {},
   "outputs": [],
   "source": [
    "values = values.astype('float32')\n",
    "# normalize features\n",
    "scaler = MinMaxScaler(feature_range=(0, 1))\n",
    "scaled = scaler.fit_transform(values)\n",
    "# frame as supervised learning\n",
    "reframed = series_to_supervised(scaled, 1, 1)"
   ]
  },
  {
   "cell_type": "code",
   "execution_count": 17,
   "metadata": {},
   "outputs": [
    {
     "data": {
      "text/html": [
       "<div>\n",
       "<style scoped>\n",
       "    .dataframe tbody tr th:only-of-type {\n",
       "        vertical-align: middle;\n",
       "    }\n",
       "\n",
       "    .dataframe tbody tr th {\n",
       "        vertical-align: top;\n",
       "    }\n",
       "\n",
       "    .dataframe thead th {\n",
       "        text-align: right;\n",
       "    }\n",
       "</style>\n",
       "<table border=\"1\" class=\"dataframe\">\n",
       "  <thead>\n",
       "    <tr style=\"text-align: right;\">\n",
       "      <th></th>\n",
       "      <th>0(t-1)</th>\n",
       "      <th>1(t-1)</th>\n",
       "      <th>2(t-1)</th>\n",
       "      <th>3(t-1)</th>\n",
       "      <th>4(t-1)</th>\n",
       "      <th>5(t-1)</th>\n",
       "      <th>6(t-1)</th>\n",
       "      <th>0(t)</th>\n",
       "      <th>1(t)</th>\n",
       "      <th>2(t)</th>\n",
       "      <th>3(t)</th>\n",
       "      <th>4(t)</th>\n",
       "      <th>5(t)</th>\n",
       "      <th>6(t)</th>\n",
       "    </tr>\n",
       "  </thead>\n",
       "  <tbody>\n",
       "    <tr>\n",
       "      <th>1</th>\n",
       "      <td>0.786283</td>\n",
       "      <td>0.872449</td>\n",
       "      <td>0.889263</td>\n",
       "      <td>0.391202</td>\n",
       "      <td>0.238788</td>\n",
       "      <td>0.000000</td>\n",
       "      <td>0.000000</td>\n",
       "      <td>0.777806</td>\n",
       "      <td>0.897230</td>\n",
       "      <td>0.917341</td>\n",
       "      <td>0.329032</td>\n",
       "      <td>0.225137</td>\n",
       "      <td>0.046612</td>\n",
       "      <td>0.000000</td>\n",
       "    </tr>\n",
       "    <tr>\n",
       "      <th>2</th>\n",
       "      <td>0.777806</td>\n",
       "      <td>0.897230</td>\n",
       "      <td>0.917341</td>\n",
       "      <td>0.329032</td>\n",
       "      <td>0.225137</td>\n",
       "      <td>0.046612</td>\n",
       "      <td>0.000000</td>\n",
       "      <td>0.703314</td>\n",
       "      <td>0.852405</td>\n",
       "      <td>0.875169</td>\n",
       "      <td>0.256137</td>\n",
       "      <td>0.223890</td>\n",
       "      <td>0.046612</td>\n",
       "      <td>0.057051</td>\n",
       "    </tr>\n",
       "    <tr>\n",
       "      <th>3</th>\n",
       "      <td>0.703314</td>\n",
       "      <td>0.852405</td>\n",
       "      <td>0.875169</td>\n",
       "      <td>0.256137</td>\n",
       "      <td>0.223890</td>\n",
       "      <td>0.046612</td>\n",
       "      <td>0.057051</td>\n",
       "      <td>0.595941</td>\n",
       "      <td>0.716837</td>\n",
       "      <td>0.738944</td>\n",
       "      <td>0.131881</td>\n",
       "      <td>0.221512</td>\n",
       "      <td>0.046612</td>\n",
       "      <td>0.057051</td>\n",
       "    </tr>\n",
       "    <tr>\n",
       "      <th>4</th>\n",
       "      <td>0.595941</td>\n",
       "      <td>0.716837</td>\n",
       "      <td>0.738944</td>\n",
       "      <td>0.131881</td>\n",
       "      <td>0.221512</td>\n",
       "      <td>0.046612</td>\n",
       "      <td>0.057051</td>\n",
       "      <td>0.423581</td>\n",
       "      <td>0.555758</td>\n",
       "      <td>0.581047</td>\n",
       "      <td>0.085966</td>\n",
       "      <td>0.208292</td>\n",
       "      <td>0.046612</td>\n",
       "      <td>0.057051</td>\n",
       "    </tr>\n",
       "    <tr>\n",
       "      <th>5</th>\n",
       "      <td>0.423581</td>\n",
       "      <td>0.555758</td>\n",
       "      <td>0.581047</td>\n",
       "      <td>0.085966</td>\n",
       "      <td>0.208292</td>\n",
       "      <td>0.046612</td>\n",
       "      <td>0.057051</td>\n",
       "      <td>0.282815</td>\n",
       "      <td>0.360058</td>\n",
       "      <td>0.381940</td>\n",
       "      <td>0.090574</td>\n",
       "      <td>0.200407</td>\n",
       "      <td>0.046612</td>\n",
       "      <td>0.057051</td>\n",
       "    </tr>\n",
       "  </tbody>\n",
       "</table>\n",
       "</div>"
      ],
      "text/plain": [
       "     0(t-1)    1(t-1)    2(t-1)    3(t-1)    4(t-1)    5(t-1)    6(t-1)  \\\n",
       "1  0.786283  0.872449  0.889263  0.391202  0.238788  0.000000  0.000000   \n",
       "2  0.777806  0.897230  0.917341  0.329032  0.225137  0.046612  0.000000   \n",
       "3  0.703314  0.852405  0.875169  0.256137  0.223890  0.046612  0.057051   \n",
       "4  0.595941  0.716837  0.738944  0.131881  0.221512  0.046612  0.057051   \n",
       "5  0.423581  0.555758  0.581047  0.085966  0.208292  0.046612  0.057051   \n",
       "\n",
       "       0(t)      1(t)      2(t)      3(t)      4(t)      5(t)      6(t)  \n",
       "1  0.777806  0.897230  0.917341  0.329032  0.225137  0.046612  0.000000  \n",
       "2  0.703314  0.852405  0.875169  0.256137  0.223890  0.046612  0.057051  \n",
       "3  0.595941  0.716837  0.738944  0.131881  0.221512  0.046612  0.057051  \n",
       "4  0.423581  0.555758  0.581047  0.085966  0.208292  0.046612  0.057051  \n",
       "5  0.282815  0.360058  0.381940  0.090574  0.200407  0.046612  0.057051  "
      ]
     },
     "execution_count": 17,
     "metadata": {},
     "output_type": "execute_result"
    }
   ],
   "source": [
    "reframed.head(5)"
   ]
  },
  {
   "cell_type": "code",
   "execution_count": null,
   "metadata": {},
   "outputs": [],
   "source": [
    "data.columns[0]"
   ]
  },
  {
   "cell_type": "code",
   "execution_count": null,
   "metadata": {},
   "outputs": [],
   "source": [
    "dgg = DataFrame(data)"
   ]
  },
  {
   "cell_type": "code",
   "execution_count": null,
   "metadata": {},
   "outputs": [],
   "source": [
    "dgg.columns.tolist()[0]"
   ]
  },
  {
   "cell_type": "code",
   "execution_count": null,
   "metadata": {},
   "outputs": [],
   "source": [
    "header=dgg.columns.tolist()\n",
    "xxnames = list()\n",
    "            # input sequence (t-n, ... t-1)\n",
    "for i in range(1, 0, -1):\n",
    "    xxnames+=[('%s(t-%d)' % (header[j], i)) for j in range(7)]"
   ]
  },
  {
   "cell_type": "code",
   "execution_count": null,
   "metadata": {},
   "outputs": [],
   "source": [
    "xxnames"
   ]
  },
  {
   "cell_type": "code",
   "execution_count": null,
   "metadata": {},
   "outputs": [],
   "source": []
  }
 ],
 "metadata": {
  "kernelspec": {
   "display_name": "Python 3",
   "language": "python",
   "name": "python3"
  },
  "language_info": {
   "codemirror_mode": {
    "name": "ipython",
    "version": 3
   },
   "file_extension": ".py",
   "mimetype": "text/x-python",
   "name": "python",
   "nbconvert_exporter": "python",
   "pygments_lexer": "ipython3",
   "version": "3.7.3"
  }
 },
 "nbformat": 4,
 "nbformat_minor": 2
}
