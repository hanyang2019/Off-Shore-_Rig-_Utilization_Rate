{
 "cells": [
  {
   "cell_type": "code",
   "execution_count": 1,
   "metadata": {},
   "outputs": [],
   "source": [
    "import pandas as pd\n",
    "import seaborn as sns\n",
    "import matplotlib.pyplot as plt\n",
    "import numpy as np"
   ]
  },
  {
   "cell_type": "code",
   "execution_count": 2,
   "metadata": {},
   "outputs": [],
   "source": [
    "df = pd.read_excel('D:\\OneDrive\\Homework\\Project_3\\Data\\Model_Data_Rev1.xlsx')"
   ]
  },
  {
   "cell_type": "code",
   "execution_count": 3,
   "metadata": {},
   "outputs": [],
   "source": [
    "df.dropna(inplace=True)\n",
    "df_data_clean = df.reset_index(drop=True)"
   ]
  },
  {
   "cell_type": "code",
   "execution_count": 4,
   "metadata": {},
   "outputs": [
    {
     "data": {
      "text/html": [
       "<div>\n",
       "<style scoped>\n",
       "    .dataframe tbody tr th:only-of-type {\n",
       "        vertical-align: middle;\n",
       "    }\n",
       "\n",
       "    .dataframe tbody tr th {\n",
       "        vertical-align: top;\n",
       "    }\n",
       "\n",
       "    .dataframe thead th {\n",
       "        text-align: right;\n",
       "    }\n",
       "</style>\n",
       "<table border=\"1\" class=\"dataframe\">\n",
       "  <thead>\n",
       "    <tr style=\"text-align: right;\">\n",
       "      <th></th>\n",
       "      <th>Date</th>\n",
       "      <th>Active_Rig_Count</th>\n",
       "      <th>Offshore_Rig_Supply</th>\n",
       "      <th>Offshore_Rig_Active</th>\n",
       "      <th>Offshore_Utilization_Rate</th>\n",
       "      <th>Land_Rig_Active_Count</th>\n",
       "      <th>Crude_Price_2010_USD</th>\n",
       "      <th>Adjusted_Nat_Gas_Price_2010</th>\n",
       "      <th>World_Oil_Cunsump</th>\n",
       "      <th>World_Oil_Production</th>\n",
       "    </tr>\n",
       "  </thead>\n",
       "  <tbody>\n",
       "    <tr>\n",
       "      <th>0</th>\n",
       "      <td>1985-11-01</td>\n",
       "      <td>3550</td>\n",
       "      <td>656.13</td>\n",
       "      <td>560.67</td>\n",
       "      <td>85.45</td>\n",
       "      <td>2989.33</td>\n",
       "      <td>61.65</td>\n",
       "      <td>4.721732</td>\n",
       "      <td>4992.770925</td>\n",
       "      <td>4929.677119</td>\n",
       "    </tr>\n",
       "    <tr>\n",
       "      <th>1</th>\n",
       "      <td>1985-12-01</td>\n",
       "      <td>3618</td>\n",
       "      <td>655.52</td>\n",
       "      <td>557.97</td>\n",
       "      <td>85.12</td>\n",
       "      <td>3060.03</td>\n",
       "      <td>54.23</td>\n",
       "      <td>4.540844</td>\n",
       "      <td>4992.770925</td>\n",
       "      <td>4929.677119</td>\n",
       "    </tr>\n",
       "  </tbody>\n",
       "</table>\n",
       "</div>"
      ],
      "text/plain": [
       "        Date  Active_Rig_Count  Offshore_Rig_Supply  Offshore_Rig_Active  \\\n",
       "0 1985-11-01              3550               656.13               560.67   \n",
       "1 1985-12-01              3618               655.52               557.97   \n",
       "\n",
       "   Offshore_Utilization_Rate  Land_Rig_Active_Count  Crude_Price_2010_USD  \\\n",
       "0                      85.45                2989.33                 61.65   \n",
       "1                      85.12                3060.03                 54.23   \n",
       "\n",
       "   Adjusted_Nat_Gas_Price_2010  World_Oil_Cunsump  World_Oil_Production  \n",
       "0                     4.721732        4992.770925           4929.677119  \n",
       "1                     4.540844        4992.770925           4929.677119  "
      ]
     },
     "execution_count": 4,
     "metadata": {},
     "output_type": "execute_result"
    }
   ],
   "source": [
    "df_data_clean.head(2)"
   ]
  },
  {
   "cell_type": "code",
   "execution_count": 5,
   "metadata": {},
   "outputs": [
    {
     "data": {
      "text/plain": [
       "Index(['Date', 'Active_Rig_Count', 'Offshore_Rig_Supply',\n",
       "       'Offshore_Rig_Active', 'Offshore_Utilization_Rate',\n",
       "       'Land_Rig_Active_Count', 'Crude_Price_2010_USD',\n",
       "       'Adjusted_Nat_Gas_Price_2010', 'World_Oil_Cunsump',\n",
       "       'World_Oil_Production'],\n",
       "      dtype='object')"
      ]
     },
     "execution_count": 5,
     "metadata": {},
     "output_type": "execute_result"
    }
   ],
   "source": [
    "df_data_clean.columns"
   ]
  },
  {
   "cell_type": "code",
   "execution_count": 6,
   "metadata": {},
   "outputs": [],
   "source": [
    "df_data_clean.columns = ['Date', 'Active Rig Count', 'Offshore Rig Supply',\n",
    "       'Offshore Rig Active', 'Offshore Utilization Rate',\n",
    "       'Land Rig Active', 'Crude Price USD',\n",
    "       'Nat Gas Price', 'Oil Cunsumption',\n",
    "       'Oil Production' ]"
   ]
  },
  {
   "cell_type": "code",
   "execution_count": 7,
   "metadata": {},
   "outputs": [],
   "source": [
    "df_data_clean = df_data_clean[['Offshore Rig Active', 'Offshore Utilization Rate', 'Crude Price USD',\n",
    "                 'Nat Gas Price', 'Oil Cunsumption', 'Oil Production', 'Land Rig Active']]"
   ]
  },
  {
   "cell_type": "code",
   "execution_count": 8,
   "metadata": {},
   "outputs": [
    {
     "data": {
      "text/html": [
       "<div>\n",
       "<style scoped>\n",
       "    .dataframe tbody tr th:only-of-type {\n",
       "        vertical-align: middle;\n",
       "    }\n",
       "\n",
       "    .dataframe tbody tr th {\n",
       "        vertical-align: top;\n",
       "    }\n",
       "\n",
       "    .dataframe thead th {\n",
       "        text-align: right;\n",
       "    }\n",
       "</style>\n",
       "<table border=\"1\" class=\"dataframe\">\n",
       "  <thead>\n",
       "    <tr style=\"text-align: right;\">\n",
       "      <th></th>\n",
       "      <th>Offshore Rig Active</th>\n",
       "      <th>Offshore Utilization Rate</th>\n",
       "      <th>Crude Price USD</th>\n",
       "      <th>Nat Gas Price</th>\n",
       "      <th>Oil Cunsumption</th>\n",
       "      <th>Oil Production</th>\n",
       "      <th>Land Rig Active</th>\n",
       "    </tr>\n",
       "  </thead>\n",
       "  <tbody>\n",
       "    <tr>\n",
       "      <th>0</th>\n",
       "      <td>560.67</td>\n",
       "      <td>85.45</td>\n",
       "      <td>61.65</td>\n",
       "      <td>4.721732</td>\n",
       "      <td>4992.770925</td>\n",
       "      <td>4929.677119</td>\n",
       "      <td>2989.33</td>\n",
       "    </tr>\n",
       "    <tr>\n",
       "      <th>1</th>\n",
       "      <td>557.97</td>\n",
       "      <td>85.12</td>\n",
       "      <td>54.23</td>\n",
       "      <td>4.540844</td>\n",
       "      <td>4992.770925</td>\n",
       "      <td>4929.677119</td>\n",
       "      <td>3060.03</td>\n",
       "    </tr>\n",
       "  </tbody>\n",
       "</table>\n",
       "</div>"
      ],
      "text/plain": [
       "   Offshore Rig Active  Offshore Utilization Rate  Crude Price USD  \\\n",
       "0               560.67                      85.45            61.65   \n",
       "1               557.97                      85.12            54.23   \n",
       "\n",
       "   Nat Gas Price  Oil Cunsumption  Oil Production  Land Rig Active  \n",
       "0       4.721732      4992.770925     4929.677119          2989.33  \n",
       "1       4.540844      4992.770925     4929.677119          3060.03  "
      ]
     },
     "execution_count": 8,
     "metadata": {},
     "output_type": "execute_result"
    }
   ],
   "source": [
    "df_data_clean.head(2)"
   ]
  },
  {
   "cell_type": "code",
   "execution_count": 9,
   "metadata": {},
   "outputs": [],
   "source": [
    "corr = df_data_clean.corr()"
   ]
  },
  {
   "cell_type": "code",
   "execution_count": 16,
   "metadata": {},
   "outputs": [
    {
     "data": {
      "image/png": "[encoded data removed]",
      "text/plain": [
       "<Figure size 720x720 with 2 Axes>"
      ]
     },
     "metadata": {
      "needs_background": "light"
     },
     "output_type": "display_data"
    }
   ],
   "source": [
    "fig, ax = plt.subplots(figsize=(10, 10))\n",
    "colormap = sns.diverging_palette(220, 10, as_cmap=True)\n",
    "dropSelf = np.zeros_like(corr)\n",
    "dropSelf[np.triu_indices_from(dropSelf)] = True\n",
    "sns.heatmap(corr, cmap=colormap, annot=True, fmt=\".2f\", mask=dropSelf)\n",
    "#plt.show()\n",
    "plt.tight_layout()\n",
    "plt.savefig(\"heatmap.png\")"
   ]
  },
  {
   "cell_type": "code",
   "execution_count": null,
   "metadata": {},
   "outputs": [],
   "source": []
  },
  {
   "cell_type": "code",
   "execution_count": null,
   "metadata": {},
   "outputs": [],
   "source": [
    "def heatMap(df, mirror):\n",
    "\n",
    "   # Create Correlation df\n",
    "   corr = df.corr()\n",
    "   # Plot figsize\n",
    "   fig, ax = plt.subplots(figsize=(10, 10))\n",
    "   # Generate Color Map\n",
    "   colormap = sns.diverging_palette(220, 10, as_cmap=True)\n",
    "   \n",
    "   if mirror == True:\n",
    "      #Generate Heat Map, allow annotations and place floats in map\n",
    "      sns.heatmap(corr, cmap=colormap, annot=True, fmt=\".2f\")\n",
    "      #Apply xticks\n",
    "      plt.xticks(range(len(corr.columns)), corr.columns);\n",
    "      #Apply yticks\n",
    "      plt.yticks(range(len(corr.columns)), corr.columns)\n",
    "      #show plot\n",
    "\n",
    "   else:\n",
    "      # Drop self-correlations\n",
    "      dropSelf = np.zeros_like(corr)\n",
    "      dropSelf[np.triu_indices_from(dropSelf)] = True\n",
    "      # Generate Color Map\n",
    "      colormap = sns.diverging_palette(220, 10, as_cmap=True)\n",
    "      # Generate Heat Map, allow annotations and place floats in map\n",
    "      sns.heatmap(corr, cmap=colormap, annot=True, fmt=\".2f\", mask=dropSelf)\n",
    "      # Apply xticks\n",
    "      #plt.xticks(range(len(corr.columns)), corr.columns);\n",
    "      # Apply yticks\n",
    "      #plt.yticks(range(len(corr.columns)), corr.columns)\n",
    "   # show plot\n",
    "   #plt.show()\n",
    "      plt.tight_layout().savefig(\"heatmap.png\")"
   ]
  },
  {
   "cell_type": "code",
   "execution_count": null,
   "metadata": {},
   "outputs": [],
   "source": [
    "heatMap(df_data_clean, False)"
   ]
  },
  {
   "cell_type": "code",
   "execution_count": null,
   "metadata": {},
   "outputs": [],
   "source": []
  },
  {
   "cell_type": "code",
   "execution_count": null,
   "metadata": {},
   "outputs": [],
   "source": []
  }
 ],
 "metadata": {
  "kernelspec": {
   "display_name": "Python 3",
   "language": "python",
   "name": "python3"
  },
  "language_info": {
   "codemirror_mode": {
    "name": "ipython",
    "version": 3
   },
   "file_extension": ".py",
   "mimetype": "text/x-python",
   "name": "python",
   "nbconvert_exporter": "python",
   "pygments_lexer": "ipython3",
   "version": "3.7.3"
  }
 },
 "nbformat": 4,
 "nbformat_minor": 2
}
